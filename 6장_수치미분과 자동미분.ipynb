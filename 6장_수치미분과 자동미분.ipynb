{
 "cells": [
  {
   "cell_type": "code",
   "execution_count": 1,
   "id": "dd080671",
   "metadata": {},
   "outputs": [],
   "source": [
    "import numpy as np\n",
    "import matplotlib.pyplot as plt\n",
    "import matplotlib as mpl\n",
    "from mpl_toolkits import mplot3d\n",
    "import matplotlib.font_manager as mfm\n",
    "import sympy\n",
    "\n",
    "# numpy 출력 형식 지정\n",
    "np.set_printoptions(precision=4, linewidth=150)\n",
    "\n",
    "# matplotlib 스타일 지정\n",
    "mpl.style.use('bmh')\n",
    "mpl.style.use('seaborn-whitegrid')\n",
    "style = plt.style.library['bmh']\n",
    "# 스타일 컬러를 쉽게 쓸 수 있도록 리스트 저장\n",
    "style_colors = [ c['color'] for c in style['axes.prop_cycle'] ]"
   ]
  },
  {
   "cell_type": "code",
   "execution_count": 3,
   "id": "d7271a62",
   "metadata": {},
   "outputs": [
    {
     "data": {
      "text/latex": [
       "$\\displaystyle \\left(2 x + 2\\right) \\log{\\left(x \\right)} + \\frac{x^{2} + 2 x}{x}$"
      ],
      "text/plain": [
       "(2*x + 2)*log(x) + (x**2 + 2*x)/x"
      ]
     },
     "execution_count": 3,
     "metadata": {},
     "output_type": "execute_result"
    }
   ],
   "source": [
    "x = sympy.Symbol('x')\n",
    "f = (x**2 + 2*x) * sympy.log(x)\n",
    "df = sympy.diff(f, x)\n",
    "df"
   ]
  },
  {
   "cell_type": "code",
   "execution_count": 4,
   "id": "084a148f",
   "metadata": {},
   "outputs": [
    {
     "data": {
      "text/latex": [
       "$\\displaystyle x + 2 \\left(x + 1\\right) \\log{\\left(x \\right)} + 2$"
      ],
      "text/plain": [
       "x + 2*(x + 1)*log(x) + 2"
      ]
     },
     "execution_count": 4,
     "metadata": {},
     "output_type": "execute_result"
    }
   ],
   "source": [
    "sympy.simplify(df)"
   ]
  },
  {
   "cell_type": "code",
   "execution_count": 14,
   "id": "42925125",
   "metadata": {},
   "outputs": [],
   "source": [
    "f = lambda x: (x**2 + 2*x) * np.log(x)\n",
    "df = lambda x: 2*(x+1)*np.log(x) + (x + 2)\n"
   ]
  },
  {
   "cell_type": "code",
   "execution_count": 15,
   "id": "efdea964",
   "metadata": {},
   "outputs": [
    {
     "data": {
      "text/plain": [
       "0.0"
      ]
     },
     "execution_count": 15,
     "metadata": {},
     "output_type": "execute_result"
    }
   ],
   "source": [
    "f(1)"
   ]
  },
  {
   "cell_type": "code",
   "execution_count": 17,
   "id": "7fb9b18a",
   "metadata": {},
   "outputs": [
    {
     "data": {
      "text/plain": [
       "3.0"
      ]
     },
     "execution_count": 17,
     "metadata": {},
     "output_type": "execute_result"
    }
   ],
   "source": [
    "df(1)"
   ]
  },
  {
   "cell_type": "code",
   "execution_count": 22,
   "id": "7df96a69",
   "metadata": {},
   "outputs": [],
   "source": [
    "###########################################################\n",
    "# 수치미분함수\n",
    "############################################################\n",
    "def numer_deriv(f, x, h=0.001, method=\"center\") :\n",
    "    \"\"\"\n",
    "    {f(x+h) - f(x)} / h을 수치적으로 계산한다.\n",
    "    \n",
    "    \n",
    "    f      : 미분할 함수로 주어진 위치에서 함수값 계산을 위해 사용\n",
    "    x      : 미분계수를 구할 변수의 위치로 \n",
    "             일변수인 경우 int 또는 float \n",
    "             다변수인 경우 넘파이 어레이 (d,) 벡터\n",
    "    h      : 비율을 구할 작은 구간\n",
    "    \"\"\"\n",
    "    if type(x) in (float, int) :    # ---- [1]\n",
    "        grad = [0.0]\n",
    "        x_ = [x]\n",
    "        var_type = 'scalar'\n",
    "    else :\n",
    "        grad = np.zeros(x.shape)    # ---- [2]\n",
    "        x_ = x.copy().astype('float32') \n",
    "        var_type = 'vector'\n",
    "    \n",
    "    for i, xi in enumerate(x_) :    # ---- [3]\n",
    "        original_value = x_[i]\n",
    "        \n",
    "        if method=='forward' :    # ---- [4]\n",
    "            x_[i] = original_value + h\n",
    "        else :\n",
    "            x_[i] = original_value + (h/2)\n",
    "        \n",
    "        if var_type == 'scalar' :    # ---- [5]   \n",
    "            gradplus = f(x_[i])\n",
    "        else :\n",
    "            gradplus = f(x_)\n",
    "        \n",
    "        if method=='forward' :    # ---- [6]   \n",
    "            x_[i] = original_value\n",
    "        else:\n",
    "            x_[i] = original_value - (h/2)\n",
    "        \n",
    "        if var_type == 'scalar' :\n",
    "            gradminus = f(x_[i])\n",
    "        else :\n",
    "            gradminus = f(x_)\n",
    "        \n",
    "        grad[i] = (gradplus - gradminus) / h    # ---- [7]\n",
    "    \n",
    "    if var_type == 'scalar' :    # ---- [8]\n",
    "        return grad[0]\n",
    "    else :\n",
    "        return grad"
   ]
  },
  {
   "cell_type": "code",
   "execution_count": 23,
   "id": "5c24f647",
   "metadata": {},
   "outputs": [
    {
     "name": "stdout",
     "output_type": "stream",
     "text": [
      "4.257383635135726\n",
      "2.9997299032915508\n"
     ]
    }
   ],
   "source": [
    "print(numer_deriv(f, 1, h=0.5, method=\"forward\"))\n",
    "print(numer_deriv(f, 1, h=0.5, method=\"center\"))"
   ]
  },
  {
   "cell_type": "code",
   "execution_count": 24,
   "id": "cf686892",
   "metadata": {},
   "outputs": [
    {
     "data": {
      "text/plain": [
       "2.999999999999666"
      ]
     },
     "execution_count": 24,
     "metadata": {},
     "output_type": "execute_result"
    }
   ],
   "source": [
    "numer_deriv(f,1)"
   ]
  },
  {
   "cell_type": "code",
   "execution_count": 25,
   "id": "5450bd63",
   "metadata": {},
   "outputs": [
    {
     "name": "stdout",
     "output_type": "stream",
     "text": [
      "3.0025000000829363\n",
      "2.999999999999666\n"
     ]
    }
   ],
   "source": [
    "print(numer_deriv(f, 1, h=0.001, method=\"forward\"))\n",
    "print(numer_deriv(f, 1, h=0.001, method=\"center\"))"
   ]
  },
  {
   "cell_type": "code",
   "execution_count": 26,
   "id": "92e63be8",
   "metadata": {},
   "outputs": [
    {
     "data": {
      "text/plain": [
       "array([2.7726, 1.4989])"
      ]
     },
     "execution_count": 26,
     "metadata": {},
     "output_type": "execute_result"
    }
   ],
   "source": [
    "f_xy  = lambda x : (x[0]**2 + 2*x[0])*np.log(x[1])\n",
    "numer_deriv(f_xy, np.array([1, 2]))"
   ]
  },
  {
   "cell_type": "code",
   "execution_count": 27,
   "id": "ffc93ec0",
   "metadata": {},
   "outputs": [
    {
     "name": "stdout",
     "output_type": "stream",
     "text": [
      "(2*x + 2)*log(y)\n",
      "(x**2 + 2*x)/y\n",
      "2.7726\n",
      "1.5000\n"
     ]
    }
   ],
   "source": [
    "x = sympy.Symbol('x') \n",
    "y = sympy.Symbol('y') \n",
    "f_xy_sympy = (x**2 + 2*x)*sympy.log(y) \n",
    "df_xy_x = sympy.diff(f_xy_sympy, x) \n",
    "df_xy_y = sympy.diff(f_xy_sympy, y)\n",
    "\n",
    "print(df_xy_x)\n",
    "print(df_xy_y)\n",
    "\n",
    "print(\"{:.4f}\".format(df_xy_x.evalf(subs={x:1.0, y:2.0})))\n",
    "print(\"{:.4f}\".format(df_xy_y.evalf(subs={x:1.0, y:2.0})))"
   ]
  },
  {
   "cell_type": "code",
   "execution_count": 28,
   "id": "698754cf",
   "metadata": {},
   "outputs": [
    {
     "ename": "ModuleNotFoundError",
     "evalue": "No module named 'torch'",
     "output_type": "error",
     "traceback": [
      "\u001b[1;31m---------------------------------------------------------------------------\u001b[0m",
      "\u001b[1;31mModuleNotFoundError\u001b[0m                       Traceback (most recent call last)",
      "\u001b[1;32m~\\AppData\\Local\\Temp/ipykernel_9748/4265195184.py\u001b[0m in \u001b[0;36m<module>\u001b[1;34m\u001b[0m\n\u001b[1;32m----> 1\u001b[1;33m \u001b[1;32mimport\u001b[0m \u001b[0mtorch\u001b[0m\u001b[1;33m\u001b[0m\u001b[1;33m\u001b[0m\u001b[0m\n\u001b[0m",
      "\u001b[1;31mModuleNotFoundError\u001b[0m: No module named 'torch'"
     ]
    }
   ],
   "source": [
    "import torch"
   ]
  },
  {
   "cell_type": "code",
   "execution_count": 29,
   "id": "e2283bb9",
   "metadata": {},
   "outputs": [
    {
     "name": "stdout",
     "output_type": "stream",
     "text": [
      "Collecting torch\n",
      "  Downloading torch-1.11.0-cp39-cp39-win_amd64.whl (157.9 MB)\n",
      "Requirement already satisfied: typing-extensions in c:\\users\\user\\anaconda3\\lib\\site-packages (from torch) (3.10.0.2)\n",
      "Installing collected packages: torch\n",
      "Successfully installed torch-1.11.0\n"
     ]
    }
   ],
   "source": [
    "! pip install torch"
   ]
  },
  {
   "cell_type": "code",
   "execution_count": 30,
   "id": "ee75f264",
   "metadata": {},
   "outputs": [],
   "source": [
    "import torch"
   ]
  },
  {
   "cell_type": "code",
   "execution_count": 31,
   "id": "6804c59e",
   "metadata": {},
   "outputs": [
    {
     "name": "stdout",
     "output_type": "stream",
     "text": [
      "[[0.5488 0.7152 0.6028]\n",
      " [0.5449 0.4237 0.6459]] float64\n",
      "tensor([[0.5488, 0.7152, 0.6028],\n",
      "        [0.5449, 0.4237, 0.6459]], dtype=torch.float64) torch.float64 False\n",
      "tensor([[0.5488, 0.7152, 0.6028],\n",
      "        [0.5449, 0.4237, 0.6459]], dtype=torch.float64) torch.float64 False\n",
      "tensor([[0.5488, 0.7152, 0.6028],\n",
      "        [0.5449, 0.4237, 0.6459]]) torch.float32 False\n",
      "tensor([[0.5488, 0.7152, 0.6028],\n",
      "        [0.5449, 0.4237, 0.6459]], dtype=torch.float64) torch.float64 False\n"
     ]
    }
   ],
   "source": [
    "np.random.seed(0) # 랜덤 어레이 생성에서 늘 같은 결과가 나오게 하기 위해\n",
    "\n",
    "x = np.random.rand(6).reshape(2,3)\n",
    "\n",
    "x_tensor = torch.tensor(x)\n",
    "x_from_numpy = torch.from_numpy(x)\n",
    "x_Tensor = torch.Tensor(x)\n",
    "x_as_tensor = torch.as_tensor(x)\n",
    "\n",
    "print(x, x.dtype)\n",
    "print(x_tensor, x_tensor.dtype, x_tensor.requires_grad)\n",
    "print(x_from_numpy, x_from_numpy.dtype, x_from_numpy.requires_grad)\n",
    "print(x_Tensor, x_Tensor.dtype, x_Tensor.requires_grad)\n",
    "print(x_as_tensor, x_as_tensor.dtype, x_as_tensor.requires_grad)"
   ]
  },
  {
   "cell_type": "code",
   "execution_count": 32,
   "id": "1f3d77f2",
   "metadata": {},
   "outputs": [
    {
     "name": "stdout",
     "output_type": "stream",
     "text": [
      "[[100.       0.7152   0.6028]\n",
      " [  0.5449   0.4237   0.6459]] float64\n",
      "tensor([[0.5488, 0.7152, 0.6028],\n",
      "        [0.5449, 0.4237, 0.6459]], dtype=torch.float64) torch.float64 False\n",
      "tensor([[100.0000,   0.7152,   0.6028],\n",
      "        [  0.5449,   0.4237,   0.6459]], dtype=torch.float64) torch.float64 False\n",
      "tensor([[0.5488, 0.7152, 0.6028],\n",
      "        [0.5449, 0.4237, 0.6459]]) torch.float32 False\n",
      "tensor([[100.0000,   0.7152,   0.6028],\n",
      "        [  0.5449,   0.4237,   0.6459]], dtype=torch.float64) torch.float64 False\n"
     ]
    }
   ],
   "source": [
    "x[0,0] = 100\n",
    "\n",
    "print(x, x.dtype)\n",
    "print(x_tensor, x_tensor.dtype, x_tensor.requires_grad)\n",
    "print(x_from_numpy, x_from_numpy.dtype, x_from_numpy.requires_grad)\n",
    "print(x_Tensor, x_Tensor.dtype, x_Tensor.requires_grad)\n",
    "print(x_as_tensor, x_as_tensor.dtype, x_as_tensor.requires_grad)"
   ]
  },
  {
   "cell_type": "code",
   "execution_count": 33,
   "id": "98076767",
   "metadata": {},
   "outputs": [
    {
     "name": "stdout",
     "output_type": "stream",
     "text": [
      "tensor([[100.0000,   0.7152,   0.6028],\n",
      "        [  0.5449,   0.4237,   0.6459]], dtype=torch.float64,\n",
      "       requires_grad=True) torch.float64 True\n"
     ]
    }
   ],
   "source": [
    "x_tensor_grad = torch.tensor(x, requires_grad=True)\n",
    "\n",
    "print(x_tensor_grad, x_tensor_grad.dtype, x_tensor_grad.requires_grad)"
   ]
  },
  {
   "cell_type": "code",
   "execution_count": 43,
   "id": "6381be1b",
   "metadata": {},
   "outputs": [
    {
     "name": "stdout",
     "output_type": "stream",
     "text": [
      "tensor([1.], requires_grad=True)\n",
      "tensor([0.], grad_fn=<MulBackward0>)\n",
      "None\n",
      "None\n",
      "<MulBackward0 object at 0x000001C6FB682F70>\n"
     ]
    }
   ],
   "source": [
    "x = torch.tensor([1.0], requires_grad=True)\n",
    "f = (x**2 + 2*x) * torch.log(x)\n",
    "\n",
    "print(x)\n",
    "print(f)\n",
    "print(x.grad)\n",
    "\n",
    "print(x.grad_fn)\n",
    "print(f.grad_fn)"
   ]
  },
  {
   "cell_type": "code",
   "execution_count": 44,
   "id": "9dbdf037",
   "metadata": {},
   "outputs": [
    {
     "name": "stdout",
     "output_type": "stream",
     "text": [
      "tensor([3.])\n"
     ]
    }
   ],
   "source": [
    "torch.autograd.backward(f, grad_tensors=torch.tensor([1.]), retain_graph=True)\n",
    "print(x.grad)"
   ]
  },
  {
   "cell_type": "code",
   "execution_count": 45,
   "id": "9454e300",
   "metadata": {},
   "outputs": [
    {
     "name": "stdout",
     "output_type": "stream",
     "text": [
      "(tensor([3.]),)\n"
     ]
    }
   ],
   "source": [
    "df = torch.autograd.grad(f, x, retain_graph=True)\n",
    "print(df)"
   ]
  },
  {
   "cell_type": "code",
   "execution_count": 46,
   "id": "311a0bf8",
   "metadata": {},
   "outputs": [
    {
     "name": "stdout",
     "output_type": "stream",
     "text": [
      "tensor([2.7726])\n",
      "tensor([1.5000])\n",
      "(tensor([2.7726]), tensor([1.5000]))\n"
     ]
    }
   ],
   "source": [
    "x = torch.tensor([1.0], requires_grad=True)\n",
    "y = torch.tensor([2.0], requires_grad=True)\n",
    "f_xy = (x**2 + 2*x) * torch.log(y)\n",
    "\n",
    "torch.autograd.backward(f_xy, retain_graph=True)\n",
    "print(x.grad)\n",
    "print(y.grad)\n",
    "\n",
    "df = torch.autograd.grad(f_xy, (x,y), retain_graph=True)\n",
    "print(df)"
   ]
  },
  {
   "cell_type": "code",
   "execution_count": 51,
   "id": "3b37a456",
   "metadata": {},
   "outputs": [
    {
     "name": "stdout",
     "output_type": "stream",
     "text": [
      "dx=3, dy=2\n"
     ]
    }
   ],
   "source": [
    "def times(x, y):\n",
    "    return x*y, (x,y)\n",
    "\n",
    "def times_deriv(cache, dout=1):\n",
    "    return cache[1]*dout, cache[0]*dout\n",
    "\n",
    "TIMES = {'f': times, 'df': times_deriv}\n",
    "\n",
    "v, cache = TIMES['f'](2,3)\n",
    "dx, dy = TIMES['df'](cache)\n",
    "\n",
    "print(\"dx={}, dy={}\".format(dx, dy))"
   ]
  },
  {
   "cell_type": "code",
   "execution_count": 52,
   "id": "4ca9b98b",
   "metadata": {},
   "outputs": [],
   "source": [
    "def add(x, y):\n",
    "    return x+y, (x,y)\n",
    "\n",
    "def add_deriv(cache, dout=1):\n",
    "    return dout, dout\n",
    "\n",
    "ADD = {'f': add, 'df': add_deriv}\n",
    "\n",
    "def log(x):\n",
    "    return np.log(x), x\n",
    "\n",
    "def log_deriv(cache, dout=1):\n",
    "    return (1/cache)*dout\n",
    "\n",
    "LOG = {'f': log, 'df': log_deriv}"
   ]
  },
  {
   "cell_type": "code",
   "execution_count": 53,
   "id": "3696da7b",
   "metadata": {},
   "outputs": [
    {
     "name": "stdout",
     "output_type": "stream",
     "text": [
      "forward pass f(x) = 2.079442\n",
      "backward pass dx = 2.772589, dy = 1.500000\n"
     ]
    }
   ],
   "source": [
    "x = 1.; y = 2.\n",
    "\n",
    "a, cache_a = TIMES['f'](x, x)\n",
    "b, cache_b = TIMES['f'](2, x)\n",
    "c, cache_c = ADD['f'](a, b)\n",
    "d, cache_d = LOG['f'](y)\n",
    "z, cache_z = TIMES['f'](c, d)\n",
    "\n",
    "print(\"forward pass f(x) = {:.6f}\".format(z))\n",
    "\n",
    "dx = dy = 0.\n",
    "dc, dd = TIMES['df'](cache_z, 1)\n",
    "dy = LOG['df'](cache_d, dd)\n",
    "da, db = ADD['df'](cache_c, dc)\n",
    "_, dx_ = TIMES['df'](cache_b, db); dx+=dx_;\n",
    "dx_, dx__ = TIMES['df'](cache_a, da); dx+=dx_+dx__;\n",
    "\n",
    "\n",
    "print(\"backward pass dx = {:.6f}, dy = {:.6f}\".format(dx, dy))"
   ]
  },
  {
   "cell_type": "code",
   "execution_count": 54,
   "id": "347fb821",
   "metadata": {},
   "outputs": [
    {
     "data": {
      "text/plain": [
       "array([2.7726, 1.4989])"
      ]
     },
     "execution_count": 54,
     "metadata": {},
     "output_type": "execute_result"
    }
   ],
   "source": [
    "def f_xy(x):\n",
    "    return (x[0]*x[0] + 2*x[0])*np.log(x[1])\n",
    "\n",
    "numer_deriv(f_xy, np.array([1, 2]), method=\"center\")"
   ]
  },
  {
   "cell_type": "code",
   "execution_count": null,
   "id": "b70e01ed",
   "metadata": {},
   "outputs": [],
   "source": []
  }
 ],
 "metadata": {
  "kernelspec": {
   "display_name": "Python 3 (ipykernel)",
   "language": "python",
   "name": "python3"
  },
  "language_info": {
   "codemirror_mode": {
    "name": "ipython",
    "version": 3
   },
   "file_extension": ".py",
   "mimetype": "text/x-python",
   "name": "python",
   "nbconvert_exporter": "python",
   "pygments_lexer": "ipython3",
   "version": "3.9.7"
  }
 },
 "nbformat": 4,
 "nbformat_minor": 5
}
