{
 "cells": [
  {
   "cell_type": "code",
   "execution_count": 2,
   "id": "a89a9b2c",
   "metadata": {},
   "outputs": [],
   "source": [
    "import numpy as np\n",
    "\n",
    "np.random.seed(10)\n",
    "\n",
    "A = np.random.randint(0, 9, 12).reshape(4,3)\n",
    "b = np.random.randint(0, 9, 3).reshape(3,1)"
   ]
  },
  {
   "cell_type": "code",
   "execution_count": 3,
   "id": "d2bd6030",
   "metadata": {},
   "outputs": [
    {
     "data": {
      "text/plain": [
       "array([[4, 0, 1],\n",
       "       [0, 1, 8],\n",
       "       [0, 8, 6],\n",
       "       [4, 3, 0]])"
      ]
     },
     "execution_count": 3,
     "metadata": {},
     "output_type": "execute_result"
    }
   ],
   "source": [
    "A"
   ]
  },
  {
   "cell_type": "code",
   "execution_count": 4,
   "id": "947cb1cf",
   "metadata": {},
   "outputs": [
    {
     "data": {
      "text/plain": [
       "array([[4],\n",
       "       [6],\n",
       "       [8]])"
      ]
     },
     "execution_count": 4,
     "metadata": {},
     "output_type": "execute_result"
    }
   ],
   "source": [
    "b"
   ]
  },
  {
   "cell_type": "code",
   "execution_count": 5,
   "id": "1c15294c",
   "metadata": {},
   "outputs": [
    {
     "data": {
      "text/plain": [
       "array([[24],\n",
       "       [70],\n",
       "       [96],\n",
       "       [34]])"
      ]
     },
     "execution_count": 5,
     "metadata": {},
     "output_type": "execute_result"
    }
   ],
   "source": [
    "C = np.dot(A,b)\n",
    "\n",
    "C"
   ]
  },
  {
   "cell_type": "code",
   "execution_count": 6,
   "id": "5c62e777",
   "metadata": {},
   "outputs": [
    {
     "name": "stdout",
     "output_type": "stream",
     "text": [
      "(3, 4, 1)\n"
     ]
    },
    {
     "data": {
      "text/plain": [
       "array([[24],\n",
       "       [70],\n",
       "       [96],\n",
       "       [34]])"
      ]
     },
     "execution_count": 6,
     "metadata": {},
     "output_type": "execute_result"
    }
   ],
   "source": [
    "C_ = np.array([A[:,[i]]*b[i] for i in range(A.shape[1])])\n",
    "print(C_.shape)\n",
    "C_.sum(axis=0)"
   ]
  },
  {
   "cell_type": "code",
   "execution_count": 7,
   "id": "5cb8b38c",
   "metadata": {},
   "outputs": [],
   "source": [
    "B = np.random.randint(0, 9, 6).reshape(3,2)"
   ]
  },
  {
   "cell_type": "code",
   "execution_count": 8,
   "id": "8cc085cb",
   "metadata": {},
   "outputs": [
    {
     "data": {
      "text/plain": [
       "array([[1, 8],\n",
       "       [4, 1],\n",
       "       [3, 6]])"
      ]
     },
     "execution_count": 8,
     "metadata": {},
     "output_type": "execute_result"
    }
   ],
   "source": [
    "B"
   ]
  },
  {
   "cell_type": "code",
   "execution_count": 9,
   "id": "117029c2",
   "metadata": {},
   "outputs": [
    {
     "data": {
      "text/plain": [
       "array([[ 7, 38],\n",
       "       [28, 49],\n",
       "       [50, 44],\n",
       "       [16, 35]])"
      ]
     },
     "execution_count": 9,
     "metadata": {},
     "output_type": "execute_result"
    }
   ],
   "source": [
    "C = np.dot(A,B)\n",
    "\n",
    "C"
   ]
  },
  {
   "cell_type": "code",
   "execution_count": 10,
   "id": "7a67a0fd",
   "metadata": {},
   "outputs": [
    {
     "name": "stdout",
     "output_type": "stream",
     "text": [
      "(2, 3, 4, 1)\n",
      "(3, 4, 2, 1)\n",
      "(4, 2, 1)\n"
     ]
    },
    {
     "data": {
      "text/plain": [
       "array([[ 7, 38],\n",
       "       [28, 49],\n",
       "       [50, 44],\n",
       "       [16, 35]])"
      ]
     },
     "execution_count": 10,
     "metadata": {},
     "output_type": "execute_result"
    }
   ],
   "source": [
    "C_ = np.array([ [A[:,[i]]*B[i,j] for i in range(A.shape[1]) ] for j in range(B.shape[1]) ])\n",
    "\n",
    "print(C_.shape)\n",
    "C_ = C_.transpose(1, 2, 0, 3)\n",
    "print(C_.shape)\n",
    "C_ = C_.sum(axis=0)\n",
    "print(C_.shape)\n",
    "C_.squeeze()"
   ]
  },
  {
   "cell_type": "code",
   "execution_count": 11,
   "id": "f1164417",
   "metadata": {},
   "outputs": [],
   "source": [
    "A = np.eye(5)*np.array([1,3,0,5,4])"
   ]
  },
  {
   "cell_type": "code",
   "execution_count": 12,
   "id": "5fe5257e",
   "metadata": {},
   "outputs": [
    {
     "data": {
      "text/plain": [
       "array([[1., 0., 0., 0., 0.],\n",
       "       [0., 3., 0., 0., 0.],\n",
       "       [0., 0., 0., 0., 0.],\n",
       "       [0., 0., 0., 5., 0.],\n",
       "       [0., 0., 0., 0., 4.]])"
      ]
     },
     "execution_count": 12,
     "metadata": {},
     "output_type": "execute_result"
    }
   ],
   "source": [
    "A"
   ]
  },
  {
   "cell_type": "code",
   "execution_count": 13,
   "id": "70434a2a",
   "metadata": {},
   "outputs": [
    {
     "name": "stdout",
     "output_type": "stream",
     "text": [
      "[[5 3 9]\n",
      " [6 9 1]\n",
      " [9 4 2]\n",
      " [6 7 8]]\n",
      "[8 9 2]\n"
     ]
    }
   ],
   "source": [
    "A = np.random.randint(0,10,12).reshape(4,3) #-----[1]\n",
    "x = np.random.randint(0,10,3)\n",
    "\n",
    "\n",
    "print(A)\n",
    "print(x)"
   ]
  },
  {
   "cell_type": "code",
   "execution_count": 14,
   "id": "09ec958b",
   "metadata": {},
   "outputs": [],
   "source": [
    "m = x.shape[0] #-----[2]\n",
    "y = [] #-----[3]\n",
    "temp = 0\n",
    "for i in range(A.shape[0]) : #-----[4]\n",
    "    for j in range(m) : #-----[5]\n",
    "        temp += A[i,j]*x[j] #-----[6]\n",
    "    y.append(temp) #-----[7]\n",
    "    temp = 0"
   ]
  },
  {
   "cell_type": "code",
   "execution_count": 15,
   "id": "b9ce5bfb",
   "metadata": {},
   "outputs": [
    {
     "data": {
      "text/plain": [
       "[85, 131, 112, 127]"
      ]
     },
     "execution_count": 15,
     "metadata": {},
     "output_type": "execute_result"
    }
   ],
   "source": [
    "y"
   ]
  },
  {
   "cell_type": "code",
   "execution_count": 16,
   "id": "24cdd632",
   "metadata": {},
   "outputs": [
    {
     "data": {
      "text/plain": [
       "array([ 85, 131, 112, 127])"
      ]
     },
     "execution_count": 16,
     "metadata": {},
     "output_type": "execute_result"
    }
   ],
   "source": [
    "A.dot(x)"
   ]
  },
  {
   "cell_type": "code",
   "execution_count": 17,
   "id": "b8985aa3",
   "metadata": {},
   "outputs": [
    {
     "data": {
      "text/plain": [
       "array([ 85, 131, 112, 127])"
      ]
     },
     "execution_count": 17,
     "metadata": {},
     "output_type": "execute_result"
    }
   ],
   "source": [
    "A@x"
   ]
  },
  {
   "cell_type": "code",
   "execution_count": 18,
   "id": "e6da4263",
   "metadata": {},
   "outputs": [],
   "source": [
    "A = np.random.randint(0,10,12).reshape(3,4) \n",
    "x = np.random.randint(0,10,3)"
   ]
  },
  {
   "cell_type": "code",
   "execution_count": 19,
   "id": "a22737c1",
   "metadata": {},
   "outputs": [],
   "source": [
    "m = x.shape[0] \n",
    "y = [] \n",
    "temp = 0\n",
    "for i in range(A.shape[1]) : \n",
    "    for j in range(m) : \n",
    "        temp += A[j,i]*x[j] #-----[1]\n",
    "    y.append(temp) \n",
    "    temp = 0"
   ]
  },
  {
   "cell_type": "code",
   "execution_count": 20,
   "id": "63c534cc",
   "metadata": {},
   "outputs": [
    {
     "data": {
      "text/plain": [
       "[8, 162, 97, 120]"
      ]
     },
     "execution_count": 20,
     "metadata": {},
     "output_type": "execute_result"
    }
   ],
   "source": [
    "y"
   ]
  },
  {
   "cell_type": "code",
   "execution_count": 21,
   "id": "f57ff129",
   "metadata": {},
   "outputs": [
    {
     "data": {
      "text/plain": [
       "array([  8, 162,  97, 120])"
      ]
     },
     "execution_count": 21,
     "metadata": {},
     "output_type": "execute_result"
    }
   ],
   "source": [
    "y = A.T.dot(x) \n",
    "y"
   ]
  },
  {
   "cell_type": "code",
   "execution_count": 22,
   "id": "322098d0",
   "metadata": {},
   "outputs": [
    {
     "data": {
      "text/plain": [
       "array([  8, 162,  97, 120])"
      ]
     },
     "execution_count": 22,
     "metadata": {},
     "output_type": "execute_result"
    }
   ],
   "source": [
    "A.T@x"
   ]
  },
  {
   "cell_type": "code",
   "execution_count": 23,
   "id": "ff1bfe35",
   "metadata": {},
   "outputs": [],
   "source": [
    "np.random.seed(10)\n",
    "\n",
    "n, m = 5, 2\n",
    "\n",
    "X = np.random.rand(n, m)\n",
    "w = np.random.rand(m)\n",
    "y = np.random.rand(n)"
   ]
  },
  {
   "cell_type": "code",
   "execution_count": 24,
   "id": "7d52e908",
   "metadata": {},
   "outputs": [
    {
     "data": {
      "text/plain": [
       "array([[0.77132064, 0.02075195],\n",
       "       [0.63364823, 0.74880388],\n",
       "       [0.49850701, 0.22479665],\n",
       "       [0.19806286, 0.76053071],\n",
       "       [0.16911084, 0.08833981]])"
      ]
     },
     "execution_count": 24,
     "metadata": {},
     "output_type": "execute_result"
    }
   ],
   "source": [
    "X"
   ]
  },
  {
   "cell_type": "code",
   "execution_count": 25,
   "id": "8d189c60",
   "metadata": {},
   "outputs": [
    {
     "data": {
      "text/plain": [
       "array([0.68535982, 0.95339335])"
      ]
     },
     "execution_count": 25,
     "metadata": {},
     "output_type": "execute_result"
    }
   ],
   "source": [
    "w"
   ]
  },
  {
   "cell_type": "code",
   "execution_count": 26,
   "id": "751e4b58",
   "metadata": {},
   "outputs": [
    {
     "data": {
      "text/plain": [
       "array([0.00394827, 0.51219226, 0.81262096, 0.61252607, 0.72175532])"
      ]
     },
     "execution_count": 26,
     "metadata": {},
     "output_type": "execute_result"
    }
   ],
   "source": [
    "y"
   ]
  },
  {
   "cell_type": "code",
   "execution_count": 27,
   "id": "30067e9d",
   "metadata": {},
   "outputs": [],
   "source": [
    "g = np.zeros_like(w)\n",
    "\n",
    "# X:(5,2), y:(5,), w:(2,)\n",
    "for j in range(m):\n",
    "    for i in range(n):\n",
    "        g[j] += (np.dot(X[i,:], w) - y[i]) * X[i,j]"
   ]
  },
  {
   "cell_type": "code",
   "execution_count": 28,
   "id": "ef754607",
   "metadata": {},
   "outputs": [
    {
     "data": {
      "text/plain": [
       "array([0.65598053, 0.57259869])"
      ]
     },
     "execution_count": 28,
     "metadata": {},
     "output_type": "execute_result"
    }
   ],
   "source": [
    "g"
   ]
  },
  {
   "cell_type": "code",
   "execution_count": 29,
   "id": "4bdfe06f",
   "metadata": {},
   "outputs": [
    {
     "data": {
      "text/plain": [
       "array([0.65598053, 0.57259869])"
      ]
     },
     "execution_count": 29,
     "metadata": {},
     "output_type": "execute_result"
    }
   ],
   "source": [
    "g = np.dot(X.T, np.dot(X,w)-y)\n",
    "g"
   ]
  },
  {
   "cell_type": "code",
   "execution_count": null,
   "id": "e4ad359d",
   "metadata": {},
   "outputs": [],
   "source": []
  }
 ],
 "metadata": {
  "kernelspec": {
   "display_name": "Python 3 (ipykernel)",
   "language": "python",
   "name": "python3"
  },
  "language_info": {
   "codemirror_mode": {
    "name": "ipython",
    "version": 3
   },
   "file_extension": ".py",
   "mimetype": "text/x-python",
   "name": "python",
   "nbconvert_exporter": "python",
   "pygments_lexer": "ipython3",
   "version": "3.9.7"
  }
 },
 "nbformat": 4,
 "nbformat_minor": 5
}
