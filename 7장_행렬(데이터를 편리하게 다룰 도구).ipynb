{
 "cells": [
  {
   "cell_type": "code",
   "execution_count": 1,
   "id": "f8642bc7",
   "metadata": {},
   "outputs": [],
   "source": [
    "import numpy as np\n",
    "import matplotlib.pyplot as plt\n",
    "import matplotlib as mpl\n",
    "import matplotlib.font_manager as mfm\n",
    "from matplotlib.patches import Rectangle, Circle, PathPatch, Arc\n",
    "from mpl_toolkits.mplot3d import Axes3D \n",
    "import mpl_toolkits.mplot3d.art3d as art3d\n",
    "\n",
    "np.set_printoptions(precision=4, linewidth=150)\n",
    "\n",
    "mpl.style.use('bmh')\n",
    "mpl.style.use('seaborn-whitegrid')\n",
    "style = plt.style.library['bmh']\n",
    "\n",
    "style_colors = [ c['color'] for c in style['axes.prop_cycle'] ]"
   ]
  },
  {
   "cell_type": "code",
   "execution_count": 2,
   "id": "69cccb91",
   "metadata": {},
   "outputs": [],
   "source": [
    "from matplotlib.text import Text, TextPath\n",
    "from matplotlib.transforms import Affine2D\n",
    "\n",
    "# https://matplotlib.org/3.1.1/gallery/mplot3d/pathpatch3d.html\n",
    "def text3d(ax, xyz, s, zdir=\"z\", size=None, angle=0, usetex=False, **kwargs):\n",
    "    '''\n",
    "    Plots the string 's' on the axes 'ax', with position 'xyz', size 'size',\n",
    "    and rotation angle 'angle'.  'zdir' gives the axis which is to be treated\n",
    "    as the third dimension.  usetex is a boolean indicating whether the string\n",
    "    should be interpreted as latex or not.  Any additional keyword arguments\n",
    "    are passed on to transform_path.\n",
    "\n",
    "    Note: zdir affects the interpretation of xyz.\n",
    "    '''\n",
    "    x, y, z = xyz\n",
    "    if zdir == \"y\":\n",
    "        xy1, z1 = (x, z), y\n",
    "    elif zdir == \"x\":\n",
    "        xy1, z1 = (y, z), x\n",
    "    else:\n",
    "        xy1, z1 = (x, y), z\n",
    "\n",
    "    text_path = TextPath((0, 0), s, size=size)\n",
    "    trans = Affine2D().rotate(angle).translate(xy1[0], xy1[1])\n",
    "\n",
    "    p1 = PathPatch(trans.transform_path(text_path), **kwargs)\n",
    "    ax.add_patch(p1)\n",
    "    art3d.pathpatch_2d_to_3d(p1, z=z1, zdir=zdir)"
   ]
  },
  {
   "cell_type": "code",
   "execution_count": 3,
   "id": "00ef5327",
   "metadata": {},
   "outputs": [],
   "source": [
    "from matplotlib.patches import FancyArrowPatch\n",
    "from mpl_toolkits.mplot3d import proj3d\n",
    "\n",
    "class Arrow3D(FancyArrowPatch):\n",
    "    \"\"\"\n",
    "    https://stackoverflow.com/questions/22867620/putting-arrowheads-on-vectors-in-matplotlibs-3d-plot\n",
    "    \"\"\"\n",
    "    def __init__(self, xs, ys, zs, *args, **kwargs):\n",
    "        FancyArrowPatch.__init__(self, (0,0), (0,0), *args, **kwargs)\n",
    "        self._verts3d = xs, ys, zs\n",
    "\n",
    "    def draw(self, renderer):\n",
    "        xs3d, ys3d, zs3d = self._verts3d\n",
    "        xs, ys, zs = proj3d.proj_transform(xs3d, ys3d, zs3d, renderer.M)\n",
    "        self.set_positions((xs[0],ys[0]),(xs[1],ys[1]))\n",
    "        FancyArrowPatch.draw(self, renderer)"
   ]
  },
  {
   "cell_type": "code",
   "execution_count": 4,
   "id": "9c5534b0",
   "metadata": {},
   "outputs": [
    {
     "data": {
      "text/plain": [
       "matrix([[11, 22],\n",
       "        [33, 44]])"
      ]
     },
     "execution_count": 4,
     "metadata": {},
     "output_type": "execute_result"
    }
   ],
   "source": [
    "A = np.matrix([[1,2],[3,4]])\n",
    "B = np.matrix([[10,20],[30,40]])\n",
    "\n",
    "A+B"
   ]
  },
  {
   "cell_type": "code",
   "execution_count": 5,
   "id": "ca59c143",
   "metadata": {},
   "outputs": [
    {
     "data": {
      "text/plain": [
       "matrix([[ 30,  60],\n",
       "        [ 90, 120]])"
      ]
     },
     "execution_count": 5,
     "metadata": {},
     "output_type": "execute_result"
    }
   ],
   "source": [
    "3*B"
   ]
  },
  {
   "cell_type": "code",
   "execution_count": 6,
   "id": "63c1d124",
   "metadata": {},
   "outputs": [
    {
     "data": {
      "text/plain": [
       "array([[ 7,  8],\n",
       "       [19, 20]])"
      ]
     },
     "execution_count": 6,
     "metadata": {},
     "output_type": "execute_result"
    }
   ],
   "source": [
    "A = np.array([[1,2,3], [4,5,6]]) #-----[1]\n",
    "B = np.array([[2,1], [1,2], [1,1]])\n",
    "\n",
    "np.dot(A,B) #-----[2]"
   ]
  },
  {
   "cell_type": "code",
   "execution_count": 7,
   "id": "c5db87a6",
   "metadata": {},
   "outputs": [
    {
     "data": {
      "text/plain": [
       "matrix([[ 70, 100],\n",
       "        [150, 220]])"
      ]
     },
     "execution_count": 7,
     "metadata": {},
     "output_type": "execute_result"
    }
   ],
   "source": [
    "A = np.matrix([[1,2],[3,4]])\n",
    "B = np.matrix([[10,20],[30,40]])\n",
    "\n",
    "A*B\n",
    "A.T * B"
   ]
  },
  {
   "cell_type": "code",
   "execution_count": 8,
   "id": "28e430af",
   "metadata": {},
   "outputs": [],
   "source": [
    "A = np.arange(1, 7).reshape(2, 3)"
   ]
  },
  {
   "cell_type": "code",
   "execution_count": 9,
   "id": "ce6c76c3",
   "metadata": {},
   "outputs": [
    {
     "data": {
      "text/plain": [
       "array([[1, 4],\n",
       "       [2, 5],\n",
       "       [3, 6]])"
      ]
     },
     "execution_count": 9,
     "metadata": {},
     "output_type": "execute_result"
    }
   ],
   "source": [
    "A.T"
   ]
  },
  {
   "cell_type": "code",
   "execution_count": 10,
   "id": "771b2d02",
   "metadata": {},
   "outputs": [
    {
     "data": {
      "text/plain": [
       "array([[1, 4],\n",
       "       [2, 5],\n",
       "       [3, 6]])"
      ]
     },
     "execution_count": 10,
     "metadata": {},
     "output_type": "execute_result"
    }
   ],
   "source": [
    "A.transpose(1, 0)"
   ]
  },
  {
   "cell_type": "code",
   "execution_count": 11,
   "id": "d37f3951",
   "metadata": {},
   "outputs": [
    {
     "name": "stdout",
     "output_type": "stream",
     "text": [
      "[[2. 4.]\n",
      " [4. 2.]]\n",
      "[[2. 4.]\n",
      " [4. 2.]]\n"
     ]
    }
   ],
   "source": [
    "A = np.matrix([[2, 4], [4, 2]])\n",
    "I = np.matrix(np.eye(2))\n",
    "\n",
    "print(A*I)\n",
    "print(I*A)"
   ]
  },
  {
   "cell_type": "code",
   "execution_count": 12,
   "id": "6fade8af",
   "metadata": {},
   "outputs": [
    {
     "data": {
      "text/plain": [
       "matrix([[0.5 , 0.  , 0.  ],\n",
       "        [0.  , 1.  , 0.  ],\n",
       "        [0.  , 0.  , 0.25]])"
      ]
     },
     "execution_count": 12,
     "metadata": {},
     "output_type": "execute_result"
    }
   ],
   "source": [
    "D = np.matrix(np.eye(3)*np.array([2,1,4]))\n",
    "D.I"
   ]
  },
  {
   "cell_type": "code",
   "execution_count": 13,
   "id": "fbdd4212",
   "metadata": {},
   "outputs": [
    {
     "data": {
      "text/plain": [
       "matrix([[1., 0., 0.],\n",
       "        [0., 1., 0.],\n",
       "        [0., 0., 1.]])"
      ]
     },
     "execution_count": 13,
     "metadata": {},
     "output_type": "execute_result"
    }
   ],
   "source": [
    "D.I*D"
   ]
  },
  {
   "cell_type": "code",
   "execution_count": 14,
   "id": "1805d148",
   "metadata": {},
   "outputs": [
    {
     "data": {
      "text/plain": [
       "matrix([[ 6.,  0.],\n",
       "        [ 0., -2.]])"
      ]
     },
     "execution_count": 14,
     "metadata": {},
     "output_type": "execute_result"
    }
   ],
   "source": [
    "A = np.matrix([[2, 4], [4, 2]])\n",
    "X = np.matrix([[ 0.7071, -0.7071], [ 0.7071,  0.7071]])\n",
    "D = X.I*A*X\n",
    "D"
   ]
  },
  {
   "cell_type": "code",
   "execution_count": 16,
   "id": "7e54208b",
   "metadata": {},
   "outputs": [
    {
     "name": "stderr",
     "output_type": "stream",
     "text": [
      "C:\\Users\\user\\AppData\\Local\\Temp/ipykernel_8348/518509758.py:14: MatplotlibDeprecationWarning: \n",
      "The M attribute was deprecated in Matplotlib 3.4 and will be removed two minor releases later. Use self.axes.M instead.\n",
      "  xs, ys, zs = proj3d.proj_transform(xs3d, ys3d, zs3d, renderer.M)\n"
     ]
    },
    {
     "data": {
      "image/png": "[encoded data removed]",
      "text/plain": [
       "<Figure size 1080x360 with 3 Axes>"
      ]
     },
     "metadata": {},
     "output_type": "display_data"
    }
   ],
   "source": [
    "from mpl_toolkits.mplot3d import Axes3D\n",
    "from matplotlib import cm\n",
    "\n",
    "fig = plt.figure()\n",
    "fig.set_size_inches((15,5))\n",
    "\n",
    "ax1 = fig.add_subplot(1, 3, 1, projection='3d')\n",
    "ax2 = fig.add_subplot(1, 3, 2, projection='3d')\n",
    "ax3 = fig.add_subplot(1, 3, 3, projection='3d')\n",
    "\n",
    "ax1.xaxis.set_tick_params(labelsize=15)\n",
    "ax1.yaxis.set_tick_params(labelsize=15)\n",
    "ax1.zaxis.set_tick_params(labelsize=15)\n",
    "\n",
    "ax2.xaxis.set_tick_params(labelsize=15)\n",
    "ax2.yaxis.set_tick_params(labelsize=15)\n",
    "ax2.zaxis.set_tick_params(labelsize=15)\n",
    "\n",
    "ax3.xaxis.set_tick_params(labelsize=15)\n",
    "ax3.yaxis.set_tick_params(labelsize=15)\n",
    "ax3.zaxis.set_tick_params(labelsize=15)\n",
    "\n",
    "x, y, z = 0, 1, 2\n",
    "P = np.array([1.5, 1.8, 1])\n",
    "\n",
    "Q = np.array([2.1, 3.2, 3])\n",
    "O = (0, 0, 0)\n",
    "\n",
    "axis_length = Q + 0.5\n",
    "\n",
    "def draw_vector(ax, P, Q, elev, azim, title=''):\n",
    "    \n",
    "    arrow = Arrow3D([P[x], Q[x]], [P[y], Q[y]], [P[z], Q[z]], lw=2, color='k',\n",
    "                   mutation_scale=20, arrowstyle=\"-|>\" )\n",
    "    ax.add_artist(arrow)\n",
    "    ax.axis('off')\n",
    "    \n",
    "    ax.plot3D([Q[x], Q[x]], [0, Q[y]], [0,0], '--', color=\"gray\")\n",
    "    ax.plot3D([P[x], P[x]], [0, P[y]], [0,0], '--', color=\"gray\")\n",
    "\n",
    "    ax.plot3D([0, Q[x]], [Q[y], Q[y]], [0,0], '--', color=\"gray\")\n",
    "    ax.plot3D([0, P[x]], [P[y], P[y]], [0,0], '--', color=\"gray\")\n",
    "\n",
    "    ax.plot3D([P[x], P[x]], [P[y], P[y]], [0, P[z]], '--', color=\"gray\") #p로의 세로선\n",
    "    ax.plot3D([Q[x], Q[x]], [Q[y], Q[y]], [0, Q[z]], '--', color=\"gray\") #p로의 세로선\n",
    "\n",
    "    ax.plot3D([0, P[x]], [0, P[y]], [0,0], '--', color=\"gray\")\n",
    "    ax.plot3D([0, Q[x]], [0, Q[y]], [0,0], '--', color=\"gray\")\n",
    "\n",
    "    ax.plot3D([0, P[x]], [0, P[y]], [P[z], P[z]], '--', color=\"gray\")\n",
    "    ax.plot3D([0, Q[x]], [0, Q[y]], [Q[z], Q[z]], '--', color=\"gray\")\n",
    "\n",
    "    ax.plot3D([P[x], Q[x]], [0, 0], [0,0], lw=2, color='k')\n",
    "    ax.plot3D([0,0], [P[y], Q[y]], [0,0],  lw=2, color='k')\n",
    "    ax.plot3D([0,0], [0, 0], [P[z], Q[z]], lw=2, color='k')\n",
    "\n",
    "    # 축 그리기 \n",
    "    ax.plot3D([O[x], axis_length[0]], [0, 0], [0, 0], color='k', alpha=0.2)\n",
    "    ax.text(axis_length[0]+0.5, 0, 0, '$x$', fontsize=18)\n",
    "    \n",
    "    ax.plot3D([0,0], [O[y], axis_length[1]], [0, 0], color='k', alpha=0.2)\n",
    "    ax.text(0, axis_length[1]+0.2, 0, '$y$', fontsize=18)\n",
    "    \n",
    "    ax.plot3D([O[x], 0], [O[y], 0], [O[z], axis_length[2]], color='k', alpha=0.2)\n",
    "    ax.text(0, 0, axis_length[2]+0.1, '$z$', fontsize=18)\n",
    "    \n",
    "    ax.plot([O[x]], [O[y]], [O[z]], 'o', color='k')\n",
    "\n",
    "    # 콤포넌트 그리기\n",
    "    ax.text(P[x]+(Q[x]-P[x])-0.3, -0.4, 0, '$v_1$', fontsize=18)\n",
    "    ax.text(-0.4, P[y]+(Q[y]-P[y])-0.8, 0, '$v_2$', fontsize=18)\n",
    "    ax.text(0, 0.1,  P[z]+(Q[y]-P[z])/2,   '$v_3$', fontsize=18)\n",
    "\n",
    "    #ax.set_title(title, fontproperties=fontprop)\n",
    "    ax.set_xlabel('$x$', fontsize=20)\n",
    "    ax.set_ylabel('$y$', fontsize=20)\n",
    "    ax.set_zlabel('$z$', fontsize=20)\n",
    "    \n",
    "    ax.set_xlim((0, 2.5))\n",
    "    ax.set_ylim((0, 3.5))\n",
    "    ax.set_zlim((0, 3.5))\n",
    "    \n",
    "    ax.view_init(elev, azim)\n",
    "    \n",
    "draw_vector(ax1, P, Q, 20, 30, '벡터와 벡터의 요소')  \n",
    "draw_vector(ax2, P-0.5, Q-0.5, 20, 30, '이동된 벡터와 벡터의 요소') \n",
    "draw_vector(ax3, O, Q, 20, 30, '위치 벡터') \n",
    "\n",
    "plt.subplots_adjust(hspace=0.05, wspace=0.0)\n",
    "\n",
    "plt.show()"
   ]
  },
  {
   "cell_type": "code",
   "execution_count": 18,
   "id": "8d5648d3",
   "metadata": {},
   "outputs": [
    {
     "data": {
      "image/png": "[encoded data removed]",
      "text/plain": [
       "<Figure size 504x504 with 1 Axes>"
      ]
     },
     "metadata": {},
     "output_type": "display_data"
    }
   ],
   "source": [
    "# 벡터 덧셈\n",
    "\n",
    "fig = plt.figure(figsize=(7,7))\n",
    "ax = fig.add_subplot(1, 1, 1)\n",
    "\n",
    "ax.xaxis.set_tick_params(labelsize=18)\n",
    "ax.yaxis.set_tick_params(labelsize=18)\n",
    "ax.set_xlabel(r'$x$', fontsize=25)\n",
    "ax.set_ylabel(r'$y$', fontsize=25)\n",
    "ax.grid(False)\n",
    "\n",
    "a = np.array( [[1, 1],[2, 3]] )\n",
    "da = a[1]-a[0]\n",
    "\n",
    "b = np.array( [[1, 1],[3, 2]] )\n",
    "db = b[1]-b[0]\n",
    "\n",
    "\n",
    "vec_a = FancyArrowPatch(a[0], a[1], lw=2, color='k', mutation_scale=20, arrowstyle=\"-|>\")\n",
    "ax.add_patch(vec_a)\n",
    "\n",
    "vec_b = FancyArrowPatch(b[0], b[1], lw=2, color='k', mutation_scale=20, arrowstyle=\"-|>\")\n",
    "ax.add_patch(vec_b)\n",
    "\n",
    "a_ = a + db # + db[1]\n",
    "vec_a_ = FancyArrowPatch(a_[0], a_[1], lw=1, color='k', mutation_scale=20, arrowstyle=\"-|>\", ls='--')\n",
    "ax.add_patch(vec_a_)\n",
    "\n",
    "b_ = b + da\n",
    "vec_b_ = FancyArrowPatch(b_[0], b_[1], lw=1, color='k', mutation_scale=20, arrowstyle=\"-|>\", ls='--')\n",
    "ax.add_patch(vec_b_)\n",
    "\n",
    "dc = da+db\n",
    "c = a.copy()\n",
    "c[1,:] = c[0,:]+dc\n",
    "vec_c = FancyArrowPatch(c[0], c[1], lw=2, color='white', mutation_scale=30, arrowstyle=\"-|>\", ec='gray')\n",
    "ax.add_patch(vec_c)\n",
    "\n",
    "# 가로 선\n",
    "ax.plot( (0, a[0,0]),(a[0,1], a[0,1]), lw=1, color='k' )\n",
    "ax.plot( (0, a[1,0]),(a[1,1], a[1,1]), lw=1, color='k' )\n",
    "ax.plot( (0, a_[1,0]),(a_[1,1], a_[1,1]), lw=1, color='k' )\n",
    "\n",
    "# 세로 선\n",
    "ax.plot( (a[0,0], a[0,0]), (0, a[0,1]), lw=1, color='k' )\n",
    "ax.plot( (b[1,0], b[1,0]), (0, b[1,1]), lw=1, color='k' )\n",
    "ax.plot( (b_[1,0], b_[1,0]), (0, b_[1,1]), lw=1, color='k' )\n",
    "\n",
    "vec_ay = FancyArrowPatch((0.0, a[0,1]), (0.0, a[1,1]), lw=1, mutation_scale=20, arrowstyle=\"<|-|>\", color='k')\n",
    "ax.add_patch(vec_ay)\n",
    "\n",
    "vec_by = FancyArrowPatch((0.0, a[1,1]), (0.0, a[1,1]+db[1]), lw=1, mutation_scale=20, arrowstyle=\"<|-|>\", color='k')\n",
    "ax.add_patch(vec_by)\n",
    "\n",
    "vec_cy = FancyArrowPatch((0.5,c[0,1]), (0.5,c[1,1]), lw=1, color='white', mutation_scale=20, arrowstyle=\"<|-|>\", ec='gray')\n",
    "ax.add_patch(vec_cy)\n",
    "\n",
    "vec_ax = FancyArrowPatch((a[0,0], 0.0), (b[1,0], 0.0), lw=1, mutation_scale=20, arrowstyle=\"<|-|>\", color='k')\n",
    "ax.add_patch(vec_ax)\n",
    "\n",
    "vec_bx = FancyArrowPatch((b[1,0], 0.0), (a[1,1]+da[0], 0.0), lw=1, mutation_scale=20, arrowstyle=\"<|-|>\", color='k')\n",
    "ax.add_patch(vec_bx)\n",
    "\n",
    "vec_cx = FancyArrowPatch((c[0,0],0.5), (c[1,0],0.5), lw=1, color='white', mutation_scale=20, arrowstyle=\"<|-|>\", ec='gray')\n",
    "ax.add_patch(vec_cx)\n",
    "\n",
    "ax.text(1.2, 2, r\"$\\mathbf{a}$\", fontsize=25)\n",
    "ax.text(3.5, 2.9, r\"$\\mathbf{a}'$\", fontsize=25)\n",
    "ax.text(2, 1.2, r\"$\\mathbf{b}$\", fontsize=25)\n",
    "ax.text(2.8, 3.5, r\"$\\mathbf{b}'$\", fontsize=25)\n",
    "ax.text(2.5, 2.3, r\"$\\mathbf{c}$\", fontsize=25)\n",
    "\n",
    "ax.text(0.5, 2.5, r\"$c_2$\", fontsize=20)\n",
    "ax.text(0.0, 2.0, r\"$a_2$\", fontsize=20)\n",
    "ax.text(0.0, 3.5, r\"$b_2$\", fontsize=20)\n",
    "\n",
    "ax.text(2.5, 0.5, r\"$c_1$\", fontsize=20)\n",
    "ax.text(2.0, 0.0, r\"$b_1$\", fontsize=20)\n",
    "ax.text(3.5, 0.0, r\"$a_1$\", fontsize=20)\n",
    "\n",
    "plt.axis('equal')\n",
    "\n",
    "plt.show()"
   ]
  },
  {
   "cell_type": "code",
   "execution_count": 19,
   "id": "d854e260",
   "metadata": {},
   "outputs": [
    {
     "data": {
      "image/png": "[encoded data removed]",
      "text/plain": [
       "<Figure size 504x504 with 1 Axes>"
      ]
     },
     "metadata": {},
     "output_type": "display_data"
    }
   ],
   "source": [
    "# 벡터 뺄셈\n",
    "\n",
    "fig = plt.figure(figsize=(7,7))\n",
    "ax = fig.add_subplot(1, 1, 1)\n",
    "\n",
    "ax.xaxis.set_tick_params(labelsize=18)\n",
    "ax.yaxis.set_tick_params(labelsize=18)\n",
    "ax.set_xlabel(r'$x$', fontsize=25)\n",
    "ax.set_ylabel(r'$y$', fontsize=25)\n",
    "ax.grid(False)\n",
    "\n",
    "a = np.array( [[1, 1],[2, 3]] )\n",
    "da = a[1]-a[0]\n",
    "\n",
    "b = np.array( [[1, 1],[3, 2]] )\n",
    "db = b[1]-b[0]\n",
    "\n",
    "vec_a = FancyArrowPatch(a[0], a[1], lw=2, color='k', mutation_scale=20, arrowstyle=\"-|>\")\n",
    "ax.add_patch(vec_a)\n",
    "\n",
    "vec_b = FancyArrowPatch(b[0], b[1], lw=2, color='k', mutation_scale=20, arrowstyle=\"-|>\")\n",
    "ax.add_patch(vec_b)\n",
    "\n",
    "minus_b = b.copy()\n",
    "minus_b[1,:] = minus_b[0,:]-db\n",
    "vec_minus_b = FancyArrowPatch(minus_b[0], minus_b[1], ls='--', lw=1, color='k', mutation_scale=20, arrowstyle=\"-|>\")\n",
    "ax.add_patch(vec_minus_b)\n",
    "\n",
    "a_ = a - db # + db[1]\n",
    "vec_a_ = FancyArrowPatch(a_[0], a_[1], lw=1, color='k', mutation_scale=20, arrowstyle=\"-|>\", ls='--')\n",
    "ax.add_patch(vec_a_)\n",
    "\n",
    "b_ = minus_b + da\n",
    "vec_b_ = FancyArrowPatch(b_[0], b_[1], lw=1, color='k', mutation_scale=20, arrowstyle=\"-|>\", ls='--')\n",
    "ax.add_patch(vec_b_)\n",
    "\n",
    "db_ = minus_b[1]-minus_b[0]\n",
    "dc_ = da+db_\n",
    "c_ = a.copy()\n",
    "c_[1,:] = c_[0,:]+dc_\n",
    "vec_c_ = FancyArrowPatch(c_[0], c_[1], lw=2, color='white', mutation_scale=30, arrowstyle=\"-|>\", ec='gray', ls='--')\n",
    "ax.add_patch(vec_c_)\n",
    "\n",
    "dc = da-db\n",
    "c = b.copy()\n",
    "c[0,:] = c[1,:]\n",
    "c[1,:] = c[0,:]+dc\n",
    "\n",
    "vec_c = FancyArrowPatch(c[0], c[1], lw=2, color='white', mutation_scale=30, arrowstyle=\"-|>\", ec='gray')\n",
    "ax.add_patch(vec_c)\n",
    "\n",
    "# 세로 선\n",
    "ax.plot( (a[0,0], a[0,0]), (-0.5, a[0,1]), lw=1, color='k' )\n",
    "ax.plot( (a[1,0], a[1,0]), (-0.5, a[1,1]), lw=1, color='k' )\n",
    "ax.plot( (b[1,0], b[1,0]), (-0.5, b[1,1]), lw=1, color='k' )\n",
    "\n",
    "# 가로 선\n",
    "ax.plot( (a[0,0], 4), (a[0,1], a[0,1]), lw=1, color='k' )\n",
    "ax.plot( (b[1,0], 4), (b[1,1], b[1,1]), lw=1, color='k' )\n",
    "ax.plot( (a[1,0], 4), (a[1,1], a[1,1]), lw=1, color='k' )\n",
    "\n",
    "vec_ay = FancyArrowPatch((4.0, a[0,1]), (4.0, a[1,1]), lw=1, mutation_scale=20, arrowstyle=\"<|-|>\", color='k')\n",
    "ax.add_patch(vec_ay)\n",
    "\n",
    "vec_by = FancyArrowPatch((3.5, b[0,1]), (3.5, b[1,1]), lw=1, mutation_scale=20, arrowstyle=\"<|-|>\", color='k')\n",
    "ax.add_patch(vec_by)\n",
    "\n",
    "vec_cy = FancyArrowPatch((3.5, c[0,1]), (3.5,c[1,1]), lw=1, color='white', mutation_scale=20, arrowstyle=\"<|-|>\", ec='gray')\n",
    "ax.add_patch(vec_cy)\n",
    "\n",
    "vec_bx = FancyArrowPatch((a[0,0], -0.5), (b[1,0], -0.5), lw=1, mutation_scale=20, arrowstyle=\"<|-|>\", color='k')\n",
    "ax.add_patch(vec_bx)\n",
    "\n",
    "vec_ax = FancyArrowPatch((a[0,0], 0.0), (a[1,0], 0.0), lw=1, mutation_scale=20, arrowstyle=\"<|-|>\", color='k')\n",
    "ax.add_patch(vec_ax)\n",
    "\n",
    "vec_cx = FancyArrowPatch((c[0,0],0.0), (c[1,0],0.0), lw=1, color='white', mutation_scale=20, arrowstyle=\"<|-|>\", ec='gray')\n",
    "ax.add_patch(vec_cx)\n",
    "\n",
    "ax.text(1.2, 2, r\"$\\mathbf{a}$\", fontsize=25)\n",
    "ax.text(-0.7, 1.0, r\"$\\mathbf{a}'$\", fontsize=25)\n",
    "ax.text(2, 1.2, r\"$\\mathbf{b}$\", fontsize=25)\n",
    "ax.text(0, 0.3, r\"$-\\mathbf{b}$\", fontsize=25)\n",
    "ax.text(0.5, 2.5, r\"$-\\mathbf{b}'$\", fontsize=25)\n",
    "\n",
    "ax.text(2.4, 0.1, r\"$c_1$\", fontsize=20)\n",
    "ax.text(1.4, 0.1, r\"$a_1$\", fontsize=20)\n",
    "ax.text(1.9, -0.8, r\"$b_1$\", fontsize=20)\n",
    "\n",
    "ax.text(3.2, 2.5, r\"$c_2$\", fontsize=20)\n",
    "ax.text(4.0, 2.0, r\"$a_2$\", fontsize=20)\n",
    "ax.text(3.2, 1.5, r\"$b_2$\", fontsize=20)\n",
    "\n",
    "ax.text(0, 1.5, r\"$\\mathbf{a}+(-\\mathbf{b})$\", fontsize=20)\n",
    "ax.text(2.5, 2.5, r\"$\\mathbf{c}$\", fontsize=25)\n",
    "\n",
    "plt.axis('equal')\n",
    "\n",
    "plt.show()"
   ]
  },
  {
   "cell_type": "code",
   "execution_count": 22,
   "id": "267a49d7",
   "metadata": {},
   "outputs": [
    {
     "data": {
      "image/png": "[encoded data removed]",
      "text/plain": [
       "<Figure size 1080x504 with 2 Axes>"
      ]
     },
     "metadata": {},
     "output_type": "display_data"
    }
   ],
   "source": [
    "# norm ㅣ2, ㅣ1\n",
    "\n",
    "fig = plt.figure(figsize=(15,7))\n",
    "ax1 = fig.add_subplot(1, 2, 1)\n",
    "ax2 = fig.add_subplot(1, 2, 2)\n",
    "\n",
    "ax1.xaxis.set_tick_params(labelsize=18)\n",
    "ax1.yaxis.set_tick_params(labelsize=18)\n",
    "ax1.set_xlabel(r'$x$', fontsize=25)\n",
    "ax1.set_ylabel(r'$y$', fontsize=25)\n",
    "\n",
    "ax2.xaxis.set_tick_params(labelsize=18)\n",
    "ax2.yaxis.set_tick_params(labelsize=18)\n",
    "ax2.set_xlabel(r'$x$', fontsize=25)\n",
    "ax2.set_ylabel(r'$y$', fontsize=25)\n",
    "\n",
    "a = np.array([0, 0])\n",
    "b = np.array([3, 3])\n",
    "vec_a = FancyArrowPatch((0, 0), (3, 0) , lw=1, mutation_scale=20, arrowstyle=\"-\", color='k', ls='--')\n",
    "ax1.add_patch(vec_a)\n",
    "\n",
    "vec_b = FancyArrowPatch((3, 0), (3, 3) , lw=1, mutation_scale=20, arrowstyle=\"-\", color='k', ls='--')\n",
    "ax1.add_patch(vec_b)\n",
    "\n",
    "c = np.array( [a, b] )\n",
    "dc = c[1]-c[0]\n",
    "vec_c = FancyArrowPatch(c[0], c[1], lw=2, mutation_scale=20, arrowstyle=\"-|>\", color='gray')\n",
    "ax1.add_patch(vec_c)\n",
    "\n",
    "ax1.plot(*a, 'o', color='k')\n",
    "ax1.plot(*b, 'o', color='k')\n",
    "\n",
    "ax1.text(-0.2,-0.2, r\"$\\mathbf{a}$\", fontsize=20)\n",
    "ax1.text(3.1, 3.1, r\"$\\mathbf{b}$\", fontsize=20)\n",
    "ax1.text(1.5, 1.7, r\"$\\mathbf{c}$\", fontsize=20)\n",
    "#ax1.set_title(\"L2 거리\", fontsize=20, fontproperties=fontprop)\n",
    "ax1.set_xlim(-1, 4)\n",
    "ax1.set_ylim(-1, 4)\n",
    "\n",
    "ax2.plot((0, 0), (0, 1), lw=2, color='gray')\n",
    "ax2.plot((0, 1), (1, 1), lw=2, color='gray')\n",
    "ax2.plot((1, 1), (1, 3), lw=2, color='gray')\n",
    "# ax2.plot((1, 3), (3, 3), lw=2, color='gray')\n",
    "vec_a = FancyArrowPatch((1, 3), (3, 3) , lw=2, mutation_scale=20, arrowstyle=\"-|>\", color='gray')\n",
    "ax2.add_patch(vec_a)\n",
    "\n",
    "ax2.plot((0, 2), (0, 0), lw=2, ls='--', color='gray')\n",
    "ax2.plot((2, 2), (0, 1), lw=2, ls='--', color='gray')\n",
    "ax2.plot((2, 3), (1, 1), lw=2, ls='--', color='gray')\n",
    "vec_b = FancyArrowPatch((3, 1), (3, 3) , lw=2, mutation_scale=20, ls='--', arrowstyle=\"-|>\", color='gray')\n",
    "ax2.add_patch(vec_b)\n",
    "\n",
    "ax2.plot(*a, 'o', color='k')\n",
    "ax2.plot(*b, 'o', color='k')\n",
    "ax2.text(-0.2,-0.2, r\"$\\mathbf{a}$\", fontsize=20)\n",
    "ax2.text(3.1, 3.1, r\"$\\mathbf{b}$\", fontsize=20)\n",
    "#ax2.set_title(\"L1 거리\", fontsize=20, fontproperties=fontprop)\n",
    "ax2.set_xlim(-1, 4)\n",
    "ax2.set_ylim(-1, 4)\n",
    "\n",
    "plt.show()"
   ]
  },
  {
   "cell_type": "code",
   "execution_count": 24,
   "id": "9876cc7c",
   "metadata": {},
   "outputs": [
    {
     "data": {
      "text/plain": [
       "(-1.0, 1.0, -1.0, 1.0)"
      ]
     },
     "execution_count": 24,
     "metadata": {},
     "output_type": "execute_result"
    },
    {
     "data": {
      "image/png": "[encoded data removed]",
      "text/plain": [
       "<Figure size 1080x504 with 2 Axes>"
      ]
     },
     "metadata": {},
     "output_type": "display_data"
    }
   ],
   "source": [
    "# 거리함수 L1, L2\n",
    "\n",
    "fig, (ax1, ax2) = plt.subplots(1, 2, sharey=True)\n",
    "fig.set_size_inches((15,7))\n",
    "\n",
    "ax1.xaxis.set_tick_params(labelsize=18)\n",
    "ax1.yaxis.set_tick_params(labelsize=18)\n",
    "ax1.set_xlabel(r'$x$', fontsize=25)\n",
    "ax1.set_ylabel(r'$y$', fontsize=25)\n",
    "ax1.grid(False)\n",
    "\n",
    "ax2.xaxis.set_tick_params(labelsize=18)\n",
    "ax2.yaxis.set_tick_params(labelsize=18)\n",
    "ax2.set_xlabel(r'$x$', fontsize=25)\n",
    "ax2.set_ylabel(r'$y$', fontsize=25)\n",
    "ax2.grid(False)\n",
    "\n",
    "l1 = lambda x1, x2 : np.abs(x1) + np.abs(x2)\n",
    "l2 = lambda x1, x2 : np.sqrt(x1**2 + x2**2)\n",
    "\n",
    "x = np.linspace(-1, 1, 100)\n",
    "X1, X2 = np.meshgrid(x, x)\n",
    "\n",
    "L1 = l1(X1,X2)\n",
    "L2 = l2(X1,X2)\n",
    "\n",
    "ax1.contour(X1, X2, L1)\n",
    "#ax1.set_title(\"L1 거리 함수\", fontsize=20, fontproperties=fontprop)\n",
    "ax1.axis('equal')\n",
    "\n",
    "ax2.contour(X1, X2, L2)\n",
    "#ax2.set_title(\"L2 거리 함수\", fontsize=20, fontproperties=fontprop)\n",
    "ax2.axis('equal')"
   ]
  },
  {
   "cell_type": "code",
   "execution_count": 31,
   "id": "81c18362",
   "metadata": {},
   "outputs": [],
   "source": [
    "def cube2d(ax, origin, dx=1, dy=1, dc=0.1, axis='off', hidden=False):\n",
    "    x0, y0 = origin\n",
    "    \n",
    "    if hidden==False:\n",
    "        ax.plot((x0, x0+dx), (y0, y0), lw=2, color='k')\n",
    "        ax.plot((x0+dx, x0+dx), (y0, y0+dy), lw=2, color='k')\n",
    "        ax.plot((x0+dx, x0), (y0+dy, y0+dy), lw=2, color='k')\n",
    "        ax.plot((x0, x0), (y0+dy, y0), lw=2, color='k')\n",
    "\n",
    "    ax.plot((x0, x0+dc), (y0+dy, y0+dy+dc), lw=2, color='k')\n",
    "    ax.plot((x0+dx, x0+dx+dc), (y0+dy, y0+dy+dc), lw=2, color='k')\n",
    "    ax.plot((x0+dx, x0+dx+dc), (y0, y0+dc), lw=2, color='k')\n",
    "    \n",
    "    ax.plot((x0+dc, x0+dx+dc), (y0+dy+dc, y0+dy+dc), lw=2, color='k')\n",
    "    ax.plot((x0+dc, x0+dx+dc), (y0+dy+dc, y0+dy+dc), lw=2, color='k')\n",
    "    ax.plot((x0+dx+dc, x0+dx+dc), (y0+dy+dc, y0+dc), lw=2, color='k')\n",
    "    \n",
    "    ax.axis(axis)"
   ]
  },
  {
   "cell_type": "code",
   "execution_count": 32,
   "id": "91e09cfb",
   "metadata": {},
   "outputs": [
    {
     "data": {
      "image/png": "[encoded data removed]",
      "text/plain": [
       "<Figure size 504x504 with 1 Axes>"
      ]
     },
     "metadata": {},
     "output_type": "display_data"
    }
   ],
   "source": [
    "fig = plt.figure(figsize=(7,7))\n",
    "ax = fig.add_subplot(1, 1, 1)\n",
    "    \n",
    "cube2d(ax, (0, 0))\n",
    "cube2d(ax, (0.1, 0.1), hidden=True)\n",
    "cube2d(ax, (0.2, 0.2), hidden=True)\n",
    "\n",
    "width = FancyArrowPatch((0, -0.1), (1, -0.1), lw=2,  mutation_scale=20, arrowstyle=\"<|-|>\", color='k')\n",
    "ax.add_patch(width)\n",
    "\n",
    "height = FancyArrowPatch((-0.1, 0), (-0.1, 1), lw=2,  mutation_scale=20, arrowstyle=\"<|-|>\", color='k')\n",
    "ax.add_patch(height)\n",
    "\n",
    "ax.text(0.4, -0.2, \"width\", fontsize=25)\n",
    "ax.text(-0.25, 0.4, \"height\", fontsize=25, rotation=90)\n",
    "\n",
    "ax.text(-0.03, 1.05, \"R\", fontsize=25)\n",
    "ax.text(0.07, 1.15, \"G\", fontsize=25)\n",
    "ax.text(0.17, 1.25, \"B\", fontsize=25)\n",
    "\n",
    "ax.set_xlim(-0.3, 1.4)\n",
    "ax.set_ylim(-0.3, 1.4)\n",
    "\n",
    "plt.show()"
   ]
  },
  {
   "cell_type": "code",
   "execution_count": 36,
   "id": "c08bf4ac",
   "metadata": {},
   "outputs": [
    {
     "ename": "FileNotFoundError",
     "evalue": "[Errno 2] No such file or directory: 'noviceml/img/old_python.png'",
     "output_type": "error",
     "traceback": [
      "\u001b[1;31m---------------------------------------------------------------------------\u001b[0m",
      "\u001b[1;31mFileNotFoundError\u001b[0m                         Traceback (most recent call last)",
      "\u001b[1;32m~\\AppData\\Local\\Temp/ipykernel_8348/2044899946.py\u001b[0m in \u001b[0;36m<module>\u001b[1;34m\u001b[0m\n\u001b[0;32m      1\u001b[0m \u001b[1;32mimport\u001b[0m \u001b[0mmatplotlib\u001b[0m\u001b[1;33m.\u001b[0m\u001b[0mpyplot\u001b[0m \u001b[1;32mas\u001b[0m \u001b[0mplt\u001b[0m\u001b[1;33m\u001b[0m\u001b[1;33m\u001b[0m\u001b[0m\n\u001b[0;32m      2\u001b[0m \u001b[1;33m\u001b[0m\u001b[0m\n\u001b[1;32m----> 3\u001b[1;33m \u001b[0mim\u001b[0m \u001b[1;33m=\u001b[0m \u001b[0mplt\u001b[0m\u001b[1;33m.\u001b[0m\u001b[0mimread\u001b[0m\u001b[1;33m(\u001b[0m\u001b[1;34m\"noviceml/img/old_python.png\"\u001b[0m\u001b[1;33m)\u001b[0m\u001b[1;33m\u001b[0m\u001b[1;33m\u001b[0m\u001b[0m\n\u001b[0m\u001b[0;32m      4\u001b[0m \u001b[0mprint\u001b[0m\u001b[1;33m(\u001b[0m\u001b[0mim\u001b[0m\u001b[1;33m.\u001b[0m\u001b[0mshape\u001b[0m\u001b[1;33m)\u001b[0m\u001b[1;33m\u001b[0m\u001b[1;33m\u001b[0m\u001b[0m\n\u001b[0;32m      5\u001b[0m \u001b[1;33m\u001b[0m\u001b[0m\n",
      "\u001b[1;32m~\\anaconda3\\lib\\site-packages\\matplotlib\\pyplot.py\u001b[0m in \u001b[0;36mimread\u001b[1;34m(fname, format)\u001b[0m\n\u001b[0;32m   2405\u001b[0m \u001b[1;33m@\u001b[0m\u001b[0m_copy_docstring_and_deprecators\u001b[0m\u001b[1;33m(\u001b[0m\u001b[0mmatplotlib\u001b[0m\u001b[1;33m.\u001b[0m\u001b[0mimage\u001b[0m\u001b[1;33m.\u001b[0m\u001b[0mimread\u001b[0m\u001b[1;33m)\u001b[0m\u001b[1;33m\u001b[0m\u001b[1;33m\u001b[0m\u001b[0m\n\u001b[0;32m   2406\u001b[0m \u001b[1;32mdef\u001b[0m \u001b[0mimread\u001b[0m\u001b[1;33m(\u001b[0m\u001b[0mfname\u001b[0m\u001b[1;33m,\u001b[0m \u001b[0mformat\u001b[0m\u001b[1;33m=\u001b[0m\u001b[1;32mNone\u001b[0m\u001b[1;33m)\u001b[0m\u001b[1;33m:\u001b[0m\u001b[1;33m\u001b[0m\u001b[1;33m\u001b[0m\u001b[0m\n\u001b[1;32m-> 2407\u001b[1;33m     \u001b[1;32mreturn\u001b[0m \u001b[0mmatplotlib\u001b[0m\u001b[1;33m.\u001b[0m\u001b[0mimage\u001b[0m\u001b[1;33m.\u001b[0m\u001b[0mimread\u001b[0m\u001b[1;33m(\u001b[0m\u001b[0mfname\u001b[0m\u001b[1;33m,\u001b[0m \u001b[0mformat\u001b[0m\u001b[1;33m)\u001b[0m\u001b[1;33m\u001b[0m\u001b[1;33m\u001b[0m\u001b[0m\n\u001b[0m\u001b[0;32m   2408\u001b[0m \u001b[1;33m\u001b[0m\u001b[0m\n\u001b[0;32m   2409\u001b[0m \u001b[1;33m\u001b[0m\u001b[0m\n",
      "\u001b[1;32m~\\anaconda3\\lib\\site-packages\\matplotlib\\image.py\u001b[0m in \u001b[0;36mimread\u001b[1;34m(fname, format)\u001b[0m\n\u001b[0;32m   1499\u001b[0m                     \u001b[0mresponse\u001b[0m \u001b[1;33m=\u001b[0m \u001b[0mio\u001b[0m\u001b[1;33m.\u001b[0m\u001b[0mBytesIO\u001b[0m\u001b[1;33m(\u001b[0m\u001b[0mresponse\u001b[0m\u001b[1;33m.\u001b[0m\u001b[0mread\u001b[0m\u001b[1;33m(\u001b[0m\u001b[1;33m)\u001b[0m\u001b[1;33m)\u001b[0m\u001b[1;33m\u001b[0m\u001b[1;33m\u001b[0m\u001b[0m\n\u001b[0;32m   1500\u001b[0m                 \u001b[1;32mreturn\u001b[0m \u001b[0mimread\u001b[0m\u001b[1;33m(\u001b[0m\u001b[0mresponse\u001b[0m\u001b[1;33m,\u001b[0m \u001b[0mformat\u001b[0m\u001b[1;33m=\u001b[0m\u001b[0mext\u001b[0m\u001b[1;33m)\u001b[0m\u001b[1;33m\u001b[0m\u001b[1;33m\u001b[0m\u001b[0m\n\u001b[1;32m-> 1501\u001b[1;33m     \u001b[1;32mwith\u001b[0m \u001b[0mimg_open\u001b[0m\u001b[1;33m(\u001b[0m\u001b[0mfname\u001b[0m\u001b[1;33m)\u001b[0m \u001b[1;32mas\u001b[0m \u001b[0mimage\u001b[0m\u001b[1;33m:\u001b[0m\u001b[1;33m\u001b[0m\u001b[1;33m\u001b[0m\u001b[0m\n\u001b[0m\u001b[0;32m   1502\u001b[0m         return (_pil_png_to_float_array(image)\n\u001b[0;32m   1503\u001b[0m                 \u001b[1;32mif\u001b[0m \u001b[0misinstance\u001b[0m\u001b[1;33m(\u001b[0m\u001b[0mimage\u001b[0m\u001b[1;33m,\u001b[0m \u001b[0mPIL\u001b[0m\u001b[1;33m.\u001b[0m\u001b[0mPngImagePlugin\u001b[0m\u001b[1;33m.\u001b[0m\u001b[0mPngImageFile\u001b[0m\u001b[1;33m)\u001b[0m \u001b[1;32melse\u001b[0m\u001b[1;33m\u001b[0m\u001b[1;33m\u001b[0m\u001b[0m\n",
      "\u001b[1;32m~\\anaconda3\\lib\\site-packages\\PIL\\ImageFile.py\u001b[0m in \u001b[0;36m__init__\u001b[1;34m(self, fp, filename)\u001b[0m\n\u001b[0;32m    107\u001b[0m         \u001b[1;32mif\u001b[0m \u001b[0misPath\u001b[0m\u001b[1;33m(\u001b[0m\u001b[0mfp\u001b[0m\u001b[1;33m)\u001b[0m\u001b[1;33m:\u001b[0m\u001b[1;33m\u001b[0m\u001b[1;33m\u001b[0m\u001b[0m\n\u001b[0;32m    108\u001b[0m             \u001b[1;31m# filename\u001b[0m\u001b[1;33m\u001b[0m\u001b[1;33m\u001b[0m\u001b[0m\n\u001b[1;32m--> 109\u001b[1;33m             \u001b[0mself\u001b[0m\u001b[1;33m.\u001b[0m\u001b[0mfp\u001b[0m \u001b[1;33m=\u001b[0m \u001b[0mopen\u001b[0m\u001b[1;33m(\u001b[0m\u001b[0mfp\u001b[0m\u001b[1;33m,\u001b[0m \u001b[1;34m\"rb\"\u001b[0m\u001b[1;33m)\u001b[0m\u001b[1;33m\u001b[0m\u001b[1;33m\u001b[0m\u001b[0m\n\u001b[0m\u001b[0;32m    110\u001b[0m             \u001b[0mself\u001b[0m\u001b[1;33m.\u001b[0m\u001b[0mfilename\u001b[0m \u001b[1;33m=\u001b[0m \u001b[0mfp\u001b[0m\u001b[1;33m\u001b[0m\u001b[1;33m\u001b[0m\u001b[0m\n\u001b[0;32m    111\u001b[0m             \u001b[0mself\u001b[0m\u001b[1;33m.\u001b[0m\u001b[0m_exclusive_fp\u001b[0m \u001b[1;33m=\u001b[0m \u001b[1;32mTrue\u001b[0m\u001b[1;33m\u001b[0m\u001b[1;33m\u001b[0m\u001b[0m\n",
      "\u001b[1;31mFileNotFoundError\u001b[0m: [Errno 2] No such file or directory: 'noviceml/img/old_python.png'"
     ]
    }
   ],
   "source": [
    "import matplotlib.pyplot as plt\n",
    "\n",
    "im = plt.imread(\"noviceml/img/old_python.png\")\n",
    "print(im.shape)\n",
    "\n",
    "fig = plt.figure(figsize=(7,7))\n",
    "ax = fig.add_subplot(1, 1, 1)\n",
    "\n",
    "ax.xaxis.set_tick_params(labelsize=18)\n",
    "ax.yaxis.set_tick_params(labelsize=18)\n",
    "\n",
    "ax.imshow(im)\n"
   ]
  },
  {
   "cell_type": "code",
   "execution_count": 37,
   "id": "a80a48d2",
   "metadata": {},
   "outputs": [
    {
     "ename": "NameError",
     "evalue": "name 'im' is not defined",
     "output_type": "error",
     "traceback": [
      "\u001b[1;31m---------------------------------------------------------------------------\u001b[0m",
      "\u001b[1;31mNameError\u001b[0m                                 Traceback (most recent call last)",
      "\u001b[1;32m~\\AppData\\Local\\Temp/ipykernel_8348/3808460434.py\u001b[0m in \u001b[0;36m<module>\u001b[1;34m\u001b[0m\n\u001b[1;32m----> 1\u001b[1;33m \u001b[0mR\u001b[0m \u001b[1;33m=\u001b[0m \u001b[0mim\u001b[0m\u001b[1;33m[\u001b[0m\u001b[1;33m:\u001b[0m\u001b[1;33m,\u001b[0m\u001b[1;33m:\u001b[0m\u001b[1;33m,\u001b[0m\u001b[1;36m0\u001b[0m\u001b[1;33m]\u001b[0m\u001b[1;33m\u001b[0m\u001b[1;33m\u001b[0m\u001b[0m\n\u001b[0m\u001b[0;32m      2\u001b[0m \u001b[0mG\u001b[0m \u001b[1;33m=\u001b[0m \u001b[0mim\u001b[0m\u001b[1;33m[\u001b[0m\u001b[1;33m:\u001b[0m\u001b[1;33m,\u001b[0m\u001b[1;33m:\u001b[0m\u001b[1;33m,\u001b[0m\u001b[1;36m1\u001b[0m\u001b[1;33m]\u001b[0m\u001b[1;33m\u001b[0m\u001b[1;33m\u001b[0m\u001b[0m\n\u001b[0;32m      3\u001b[0m \u001b[0mB\u001b[0m \u001b[1;33m=\u001b[0m \u001b[0mim\u001b[0m\u001b[1;33m[\u001b[0m\u001b[1;33m:\u001b[0m\u001b[1;33m,\u001b[0m\u001b[1;33m:\u001b[0m\u001b[1;33m,\u001b[0m\u001b[1;36m2\u001b[0m\u001b[1;33m]\u001b[0m\u001b[1;33m\u001b[0m\u001b[1;33m\u001b[0m\u001b[0m\n\u001b[0;32m      4\u001b[0m \u001b[0mA\u001b[0m \u001b[1;33m=\u001b[0m \u001b[0mim\u001b[0m\u001b[1;33m[\u001b[0m\u001b[1;33m:\u001b[0m\u001b[1;33m,\u001b[0m\u001b[1;33m:\u001b[0m\u001b[1;33m,\u001b[0m\u001b[1;36m3\u001b[0m\u001b[1;33m]\u001b[0m\u001b[1;33m\u001b[0m\u001b[1;33m\u001b[0m\u001b[0m\n",
      "\u001b[1;31mNameError\u001b[0m: name 'im' is not defined"
     ]
    }
   ],
   "source": [
    "R = im[:,:,0]\n",
    "G = im[:,:,1]\n",
    "B = im[:,:,2]\n",
    "A = im[:,:,3]"
   ]
  },
  {
   "cell_type": "code",
   "execution_count": 38,
   "id": "a7e81c4c",
   "metadata": {},
   "outputs": [
    {
     "ename": "NameError",
     "evalue": "name 'R' is not defined",
     "output_type": "error",
     "traceback": [
      "\u001b[1;31m---------------------------------------------------------------------------\u001b[0m",
      "\u001b[1;31mNameError\u001b[0m                                 Traceback (most recent call last)",
      "\u001b[1;32m~\\AppData\\Local\\Temp/ipykernel_8348/945667686.py\u001b[0m in \u001b[0;36m<module>\u001b[1;34m\u001b[0m\n\u001b[0;32m      5\u001b[0m \u001b[0max4\u001b[0m \u001b[1;33m=\u001b[0m \u001b[0mfig\u001b[0m\u001b[1;33m.\u001b[0m\u001b[0madd_subplot\u001b[0m\u001b[1;33m(\u001b[0m\u001b[1;36m1\u001b[0m\u001b[1;33m,\u001b[0m \u001b[1;36m4\u001b[0m\u001b[1;33m,\u001b[0m \u001b[1;36m4\u001b[0m\u001b[1;33m)\u001b[0m\u001b[1;33m\u001b[0m\u001b[1;33m\u001b[0m\u001b[0m\n\u001b[0;32m      6\u001b[0m \u001b[1;33m\u001b[0m\u001b[0m\n\u001b[1;32m----> 7\u001b[1;33m \u001b[0max1\u001b[0m\u001b[1;33m.\u001b[0m\u001b[0mimshow\u001b[0m\u001b[1;33m(\u001b[0m\u001b[0mR\u001b[0m\u001b[1;33m)\u001b[0m\u001b[1;33m\u001b[0m\u001b[1;33m\u001b[0m\u001b[0m\n\u001b[0m\u001b[0;32m      8\u001b[0m \u001b[0max1\u001b[0m\u001b[1;33m.\u001b[0m\u001b[0mset_title\u001b[0m\u001b[1;33m(\u001b[0m\u001b[1;34m\"Red\"\u001b[0m\u001b[1;33m)\u001b[0m\u001b[1;33m\u001b[0m\u001b[1;33m\u001b[0m\u001b[0m\n\u001b[0;32m      9\u001b[0m \u001b[0max2\u001b[0m\u001b[1;33m.\u001b[0m\u001b[0mimshow\u001b[0m\u001b[1;33m(\u001b[0m\u001b[0mG\u001b[0m\u001b[1;33m)\u001b[0m\u001b[1;33m\u001b[0m\u001b[1;33m\u001b[0m\u001b[0m\n",
      "\u001b[1;31mNameError\u001b[0m: name 'R' is not defined"
     ]
    },
    {
     "data": {
      "image/png": "[encoded data removed]",
      "text/plain": [
       "<Figure size 1080x504 with 4 Axes>"
      ]
     },
     "metadata": {},
     "output_type": "display_data"
    }
   ],
   "source": [
    "fig = plt.figure(figsize=(15,7))\n",
    "ax1 = fig.add_subplot(1, 4, 1)\n",
    "ax2 = fig.add_subplot(1, 4, 2)\n",
    "ax3 = fig.add_subplot(1, 4, 3)\n",
    "ax4 = fig.add_subplot(1, 4, 4)\n",
    "\n",
    "ax1.imshow(R)\n",
    "ax1.set_title(\"Red\")\n",
    "ax2.imshow(G)\n",
    "ax2.set_title(\"Green\")\n",
    "ax3.imshow(B)\n",
    "ax3.set_title(\"Blue\")\n",
    "ax4.imshow(A)\n",
    "ax4.set_title(\"Alpha\")\n",
    "\n",
    "plt.show()"
   ]
  },
  {
   "cell_type": "code",
   "execution_count": 39,
   "id": "88b7c001",
   "metadata": {},
   "outputs": [],
   "source": [
    "docs = [\n",
    "'This is the first document',\n",
    "'This is the second document',\n",
    "'And the third one',\n",
    "'Is this the first document']\n",
    "\n",
    "V = ['<NULL>', 'and', 'document', 'first', 'is', 'one', 'second', 'the', 'third', 'this']"
   ]
  },
  {
   "cell_type": "code",
   "execution_count": 40,
   "id": "c8508092",
   "metadata": {},
   "outputs": [
    {
     "data": {
      "text/plain": [
       "['This is the first document',\n",
       " 'This is the second document',\n",
       " 'And the third one',\n",
       " 'Is this the first document']"
      ]
     },
     "execution_count": 40,
     "metadata": {},
     "output_type": "execute_result"
    }
   ],
   "source": [
    "docs"
   ]
  },
  {
   "cell_type": "code",
   "execution_count": 41,
   "id": "8a4469fd",
   "metadata": {},
   "outputs": [
    {
     "name": "stdout",
     "output_type": "stream",
     "text": [
      "[[9, 4, 7, 3, 2], [9, 4, 7, 6, 2], [1, 7, 8, 5], [4, 9, 7, 3, 2]]\n"
     ]
    }
   ],
   "source": [
    "pre_docs = list(map(lambda x : x.lower().split(), docs))\n",
    "pre_docs\n",
    "\n",
    "D = [[V.index(w) for w in doc] for doc in pre_docs ]\n",
    "\n",
    "print(D)"
   ]
  },
  {
   "cell_type": "code",
   "execution_count": 42,
   "id": "a875532c",
   "metadata": {},
   "outputs": [],
   "source": [
    "N = max([len(doc) for doc in pre_docs])"
   ]
  },
  {
   "cell_type": "code",
   "execution_count": 43,
   "id": "3152c91c",
   "metadata": {},
   "outputs": [
    {
     "data": {
      "text/plain": [
       "[['this', 'is', 'the', 'first', 'document'],\n",
       " ['this', 'is', 'the', 'second', 'document'],\n",
       " ['and', 'the', 'third', 'one', '<NULL>'],\n",
       " ['is', 'this', 'the', 'first', 'document']]"
      ]
     },
     "execution_count": 43,
     "metadata": {},
     "output_type": "execute_result"
    }
   ],
   "source": [
    "N = max([len(doc) for doc in pre_docs]) #-----[1]\n",
    "pre_docs = [doc + ['<NULL>']*(N-len(doc)) for doc in pre_docs] #-----[2]\n",
    "pre_docs"
   ]
  },
  {
   "cell_type": "code",
   "execution_count": 44,
   "id": "01c1709c",
   "metadata": {},
   "outputs": [
    {
     "data": {
      "text/plain": [
       "array([[9, 4, 7, 3, 2],\n",
       "       [9, 4, 7, 6, 2],\n",
       "       [1, 7, 8, 5, 0],\n",
       "       [4, 9, 7, 3, 2]])"
      ]
     },
     "execution_count": 44,
     "metadata": {},
     "output_type": "execute_result"
    }
   ],
   "source": [
    "D = [[V.index(w) for w in doc] for doc in pre_docs ]\n",
    "D = np.array(D)\n",
    "D"
   ]
  },
  {
   "cell_type": "code",
   "execution_count": 45,
   "id": "1e418619",
   "metadata": {},
   "outputs": [
    {
     "data": {
      "text/plain": [
       "array([1, 2, 3, 4])"
      ]
     },
     "execution_count": 45,
     "metadata": {},
     "output_type": "execute_result"
    }
   ],
   "source": [
    "A = np.array([1,2,3,4])\n",
    "A"
   ]
  },
  {
   "cell_type": "code",
   "execution_count": 46,
   "id": "6f91b4f7",
   "metadata": {},
   "outputs": [
    {
     "data": {
      "text/plain": [
       "array([[1, 2],\n",
       "       [3, 4]])"
      ]
     },
     "execution_count": 46,
     "metadata": {},
     "output_type": "execute_result"
    }
   ],
   "source": [
    "B = np.array([[1,2],[3,4]])\n",
    "B"
   ]
  },
  {
   "cell_type": "code",
   "execution_count": 47,
   "id": "7280bd00",
   "metadata": {},
   "outputs": [
    {
     "data": {
      "text/plain": [
       "(4,)"
      ]
     },
     "execution_count": 47,
     "metadata": {},
     "output_type": "execute_result"
    }
   ],
   "source": [
    "A.shape"
   ]
  },
  {
   "cell_type": "code",
   "execution_count": 48,
   "id": "e8d4f3d4",
   "metadata": {},
   "outputs": [
    {
     "data": {
      "text/plain": [
       "(2, 2)"
      ]
     },
     "execution_count": 48,
     "metadata": {},
     "output_type": "execute_result"
    }
   ],
   "source": [
    "B.shape"
   ]
  },
  {
   "cell_type": "code",
   "execution_count": 49,
   "id": "011bc70b",
   "metadata": {},
   "outputs": [
    {
     "data": {
      "text/plain": [
       "array([[1, 2, 3, 4]])"
      ]
     },
     "execution_count": 49,
     "metadata": {},
     "output_type": "execute_result"
    }
   ],
   "source": [
    "A.reshape(1,4)"
   ]
  },
  {
   "cell_type": "code",
   "execution_count": 50,
   "id": "23942798",
   "metadata": {},
   "outputs": [
    {
     "data": {
      "text/plain": [
       "(1, 4)"
      ]
     },
     "execution_count": 50,
     "metadata": {},
     "output_type": "execute_result"
    }
   ],
   "source": [
    "A.reshape(1,4).shape"
   ]
  },
  {
   "cell_type": "code",
   "execution_count": 51,
   "id": "0684059e",
   "metadata": {},
   "outputs": [
    {
     "data": {
      "text/plain": [
       "array([[1],\n",
       "       [2],\n",
       "       [3],\n",
       "       [4]])"
      ]
     },
     "execution_count": 51,
     "metadata": {},
     "output_type": "execute_result"
    }
   ],
   "source": [
    "A.reshape(4,1)"
   ]
  },
  {
   "cell_type": "code",
   "execution_count": 52,
   "id": "ca031af6",
   "metadata": {},
   "outputs": [
    {
     "data": {
      "text/plain": [
       "(4, 1)"
      ]
     },
     "execution_count": 52,
     "metadata": {},
     "output_type": "execute_result"
    }
   ],
   "source": [
    "A.reshape(4,1).shape"
   ]
  },
  {
   "cell_type": "code",
   "execution_count": 53,
   "id": "3be21361",
   "metadata": {},
   "outputs": [
    {
     "data": {
      "text/plain": [
       "array([[0.6415, 0.1181],\n",
       "       [0.9453, 0.9015],\n",
       "       [0.4276, 0.0218]])"
      ]
     },
     "execution_count": 53,
     "metadata": {},
     "output_type": "execute_result"
    }
   ],
   "source": [
    "np.random.rand(3,2) # 0에서 1사이의 무작위 소수로 채워진 3행 2열 ndarray 생성"
   ]
  },
  {
   "cell_type": "code",
   "execution_count": 54,
   "id": "c44cd09c",
   "metadata": {},
   "outputs": [
    {
     "data": {
      "text/plain": [
       "array([[1., 1.],\n",
       "       [1., 1.],\n",
       "       [1., 1.]])"
      ]
     },
     "execution_count": 54,
     "metadata": {},
     "output_type": "execute_result"
    }
   ],
   "source": [
    "np.ones((3,2)) # 모두 1로 채워진 3행 2열 ndarray 생성"
   ]
  },
  {
   "cell_type": "code",
   "execution_count": 55,
   "id": "4e7e991d",
   "metadata": {},
   "outputs": [
    {
     "data": {
      "text/plain": [
       "array([1, 1, 1, 1])"
      ]
     },
     "execution_count": 55,
     "metadata": {},
     "output_type": "execute_result"
    }
   ],
   "source": [
    "np.ones_like(A) # A라는 ndarray와 모양은 같고 모두 1로 채워진 ndarray 생성"
   ]
  },
  {
   "cell_type": "code",
   "execution_count": 56,
   "id": "402be395",
   "metadata": {},
   "outputs": [
    {
     "data": {
      "text/plain": [
       "array([[0., 0.],\n",
       "       [0., 0.],\n",
       "       [0., 0.]])"
      ]
     },
     "execution_count": 56,
     "metadata": {},
     "output_type": "execute_result"
    }
   ],
   "source": [
    "np.zeros((3,2)) # 모두 0으로 채워진 3행 2열 ndarray 생성"
   ]
  },
  {
   "cell_type": "code",
   "execution_count": 57,
   "id": "7359ef34",
   "metadata": {},
   "outputs": [
    {
     "data": {
      "text/plain": [
       "array([0, 0, 0, 0])"
      ]
     },
     "execution_count": 57,
     "metadata": {},
     "output_type": "execute_result"
    }
   ],
   "source": [
    "np.zeros_like(A) # A라는 ndarray와 모양은 같고 모두 0으로 채워진 ndarray 생성"
   ]
  },
  {
   "cell_type": "code",
   "execution_count": 58,
   "id": "2fb32439",
   "metadata": {},
   "outputs": [
    {
     "data": {
      "text/plain": [
       "array([[10, 10],\n",
       "       [10, 10],\n",
       "       [10, 10]])"
      ]
     },
     "execution_count": 58,
     "metadata": {},
     "output_type": "execute_result"
    }
   ],
   "source": [
    "np.full((3,2), 10) # 모두 10으로 채워진 3행 2열 ndarray 생성"
   ]
  },
  {
   "cell_type": "code",
   "execution_count": 59,
   "id": "1d436192",
   "metadata": {},
   "outputs": [
    {
     "data": {
      "text/plain": [
       "array([0, 1, 2, 3, 4, 5, 6, 7, 8, 9])"
      ]
     },
     "execution_count": 59,
     "metadata": {},
     "output_type": "execute_result"
    }
   ],
   "source": [
    "np.arange(10) # 0부터 9까지 순차적인 자연수로 ndarray를 생성"
   ]
  },
  {
   "cell_type": "code",
   "execution_count": 60,
   "id": "fd118379",
   "metadata": {},
   "outputs": [],
   "source": [
    "np.random.seed(12)\n",
    "\n",
    "A = np.random.randint(0,9,4).reshape(2,2)\n",
    "B = np.random.randint(0,9,4).reshape(2,2)+1"
   ]
  },
  {
   "cell_type": "code",
   "execution_count": 61,
   "id": "435a49a4",
   "metadata": {},
   "outputs": [
    {
     "data": {
      "text/plain": [
       "array([[6, 1],\n",
       "       [2, 3]])"
      ]
     },
     "execution_count": 61,
     "metadata": {},
     "output_type": "execute_result"
    }
   ],
   "source": [
    "A"
   ]
  },
  {
   "cell_type": "code",
   "execution_count": 62,
   "id": "6c5dcf3a",
   "metadata": {},
   "outputs": [
    {
     "data": {
      "text/plain": [
       "array([[4, 1],\n",
       "       [7, 2]])"
      ]
     },
     "execution_count": 62,
     "metadata": {},
     "output_type": "execute_result"
    }
   ],
   "source": [
    "B"
   ]
  },
  {
   "cell_type": "code",
   "execution_count": 63,
   "id": "45e1f406",
   "metadata": {},
   "outputs": [
    {
     "data": {
      "text/plain": [
       "array([[10,  2],\n",
       "       [ 9,  5]])"
      ]
     },
     "execution_count": 63,
     "metadata": {},
     "output_type": "execute_result"
    }
   ],
   "source": [
    "A+B"
   ]
  },
  {
   "cell_type": "code",
   "execution_count": 64,
   "id": "f2705b7b",
   "metadata": {},
   "outputs": [
    {
     "data": {
      "text/plain": [
       "array([[ 2,  0],\n",
       "       [-5,  1]])"
      ]
     },
     "execution_count": 64,
     "metadata": {},
     "output_type": "execute_result"
    }
   ],
   "source": [
    "A-B"
   ]
  },
  {
   "cell_type": "code",
   "execution_count": 65,
   "id": "e67d079c",
   "metadata": {},
   "outputs": [
    {
     "data": {
      "text/plain": [
       "array([[1.5   , 1.    ],\n",
       "       [0.2857, 1.5   ]])"
      ]
     },
     "execution_count": 65,
     "metadata": {},
     "output_type": "execute_result"
    }
   ],
   "source": [
    "A/B"
   ]
  },
  {
   "cell_type": "code",
   "execution_count": 66,
   "id": "f5c2a884",
   "metadata": {},
   "outputs": [
    {
     "data": {
      "text/plain": [
       "array([[24,  1],\n",
       "       [14,  6]])"
      ]
     },
     "execution_count": 66,
     "metadata": {},
     "output_type": "execute_result"
    }
   ],
   "source": [
    "A*B"
   ]
  },
  {
   "cell_type": "code",
   "execution_count": 67,
   "id": "af02760d",
   "metadata": {},
   "outputs": [
    {
     "data": {
      "text/plain": [
       "array([[31,  8],\n",
       "       [29,  8]])"
      ]
     },
     "execution_count": 67,
     "metadata": {},
     "output_type": "execute_result"
    }
   ],
   "source": [
    "np.dot(A,B)"
   ]
  },
  {
   "cell_type": "code",
   "execution_count": 68,
   "id": "200d5807",
   "metadata": {},
   "outputs": [
    {
     "data": {
      "text/plain": [
       "array([[1, 2, 3],\n",
       "       [4, 5, 6]])"
      ]
     },
     "execution_count": 68,
     "metadata": {},
     "output_type": "execute_result"
    }
   ],
   "source": [
    "A = np.arange(1, 7).reshape(2, 3) \n",
    "A"
   ]
  },
  {
   "cell_type": "code",
   "execution_count": 69,
   "id": "408078b4",
   "metadata": {},
   "outputs": [
    {
     "data": {
      "text/plain": [
       "array([[1, 4],\n",
       "       [2, 5],\n",
       "       [3, 6]])"
      ]
     },
     "execution_count": 69,
     "metadata": {},
     "output_type": "execute_result"
    }
   ],
   "source": [
    "A.transpose(1, 0) "
   ]
  },
  {
   "cell_type": "code",
   "execution_count": 70,
   "id": "a8765bd9",
   "metadata": {},
   "outputs": [
    {
     "data": {
      "text/plain": [
       "array([[[ 1,  2,  3],\n",
       "        [ 4,  5,  6]],\n",
       "\n",
       "       [[ 7,  8,  9],\n",
       "        [10, 11, 12]]])"
      ]
     },
     "execution_count": 70,
     "metadata": {},
     "output_type": "execute_result"
    }
   ],
   "source": [
    "A = np.arange(1, 13).reshape(2, 2, -1)\n",
    "A"
   ]
  },
  {
   "cell_type": "code",
   "execution_count": 71,
   "id": "b00dcd9b",
   "metadata": {},
   "outputs": [
    {
     "data": {
      "text/plain": [
       "array([[[ 1,  7],\n",
       "        [ 4, 10]],\n",
       "\n",
       "       [[ 2,  8],\n",
       "        [ 5, 11]],\n",
       "\n",
       "       [[ 3,  9],\n",
       "        [ 6, 12]]])"
      ]
     },
     "execution_count": 71,
     "metadata": {},
     "output_type": "execute_result"
    }
   ],
   "source": [
    "A.T"
   ]
  },
  {
   "cell_type": "code",
   "execution_count": 72,
   "id": "49205346",
   "metadata": {},
   "outputs": [
    {
     "data": {
      "text/plain": [
       "array([[[ 1,  2,  3],\n",
       "        [ 7,  8,  9]],\n",
       "\n",
       "       [[ 4,  5,  6],\n",
       "        [10, 11, 12]]])"
      ]
     },
     "execution_count": 72,
     "metadata": {},
     "output_type": "execute_result"
    }
   ],
   "source": [
    "A = np.arange(1, 13).reshape(2, 2, -1)\n",
    "A.transpose(1,0,2)"
   ]
  },
  {
   "cell_type": "code",
   "execution_count": 73,
   "id": "23179624",
   "metadata": {},
   "outputs": [
    {
     "data": {
      "text/plain": [
       "array([[ 0,  1,  2,  3,  4,  5],\n",
       "       [ 6,  7,  8,  9, 10, 11],\n",
       "       [12, 13, 14, 15, 16, 17],\n",
       "       [18, 19, 20, 21, 22, 23],\n",
       "       [24, 25, 26, 27, 28, 29]])"
      ]
     },
     "execution_count": 73,
     "metadata": {},
     "output_type": "execute_result"
    }
   ],
   "source": [
    "A = np.arange(30).reshape(5,6)\n",
    "A"
   ]
  },
  {
   "cell_type": "code",
   "execution_count": 74,
   "id": "d2f92578",
   "metadata": {},
   "outputs": [
    {
     "data": {
      "text/plain": [
       "2"
      ]
     },
     "execution_count": 74,
     "metadata": {},
     "output_type": "execute_result"
    }
   ],
   "source": [
    "A[0,2]"
   ]
  },
  {
   "cell_type": "code",
   "execution_count": 75,
   "id": "9b151f4a",
   "metadata": {},
   "outputs": [
    {
     "data": {
      "text/plain": [
       "15"
      ]
     },
     "execution_count": 75,
     "metadata": {},
     "output_type": "execute_result"
    }
   ],
   "source": [
    "A[2,3]"
   ]
  },
  {
   "cell_type": "code",
   "execution_count": 76,
   "id": "8a398aa9",
   "metadata": {},
   "outputs": [
    {
     "data": {
      "text/plain": [
       "array([[ 0,  2,  4],\n",
       "       [ 6,  8, 10],\n",
       "       [12, 14, 16],\n",
       "       [18, 20, 22],\n",
       "       [24, 26, 28]])"
      ]
     },
     "execution_count": 76,
     "metadata": {},
     "output_type": "execute_result"
    }
   ],
   "source": [
    "A[:, 0::2]"
   ]
  },
  {
   "cell_type": "code",
   "execution_count": 92,
   "id": "ec67d8fd",
   "metadata": {},
   "outputs": [
    {
     "data": {
      "text/plain": [
       "array([[ 0,  2,  4],\n",
       "       [ 6,  8, 10],\n",
       "       [12, 14, 16]])"
      ]
     },
     "execution_count": 92,
     "metadata": {},
     "output_type": "execute_result"
    }
   ],
   "source": [
    "A[ :3 , : : 2]"
   ]
  },
  {
   "cell_type": "code",
   "execution_count": 93,
   "id": "5c2b558b",
   "metadata": {},
   "outputs": [
    {
     "data": {
      "text/plain": [
       "array([ 1,  8, 15, 19, 24])"
      ]
     },
     "execution_count": 93,
     "metadata": {},
     "output_type": "execute_result"
    }
   ],
   "source": [
    "np.array([A[0,1], A[1,2], A[2,3], A[3,1], A[4,0]])"
   ]
  },
  {
   "cell_type": "code",
   "execution_count": 94,
   "id": "3e85ecdb",
   "metadata": {},
   "outputs": [
    {
     "data": {
      "text/plain": [
       "array([ 1,  8, 15, 19, 24])"
      ]
     },
     "execution_count": 94,
     "metadata": {},
     "output_type": "execute_result"
    }
   ],
   "source": [
    "A[[0,1,2,3,4], [1,2,3,1,0]] # A[np.arange(4), [1,2,3,1,0]]"
   ]
  },
  {
   "cell_type": "code",
   "execution_count": 95,
   "id": "881cb8f0",
   "metadata": {},
   "outputs": [
    {
     "data": {
      "text/plain": [
       "array([[False, False, False, False, False, False],\n",
       "       [False, False, False, False, False, False],\n",
       "       [False, False, False, False, False, False],\n",
       "       [False, False, False,  True,  True,  True],\n",
       "       [ True,  True,  True,  True,  True,  True]])"
      ]
     },
     "execution_count": 95,
     "metadata": {},
     "output_type": "execute_result"
    }
   ],
   "source": [
    "A > 20"
   ]
  },
  {
   "cell_type": "code",
   "execution_count": 96,
   "id": "cc19c1a0",
   "metadata": {},
   "outputs": [
    {
     "data": {
      "text/plain": [
       "array([21, 22, 23, 24, 25, 26, 27, 28, 29])"
      ]
     },
     "execution_count": 96,
     "metadata": {},
     "output_type": "execute_result"
    }
   ],
   "source": [
    "A[A > 20]"
   ]
  },
  {
   "cell_type": "code",
   "execution_count": 97,
   "id": "2892127d",
   "metadata": {},
   "outputs": [
    {
     "data": {
      "text/plain": [
       "array([2, 4, 6])"
      ]
     },
     "execution_count": 97,
     "metadata": {},
     "output_type": "execute_result"
    }
   ],
   "source": [
    "A = np.array([1,2,3])\n",
    "A * 2"
   ]
  },
  {
   "cell_type": "code",
   "execution_count": null,
   "id": "0386a528",
   "metadata": {},
   "outputs": [],
   "source": []
  }
 ],
 "metadata": {
  "kernelspec": {
   "display_name": "Python 3 (ipykernel)",
   "language": "python",
   "name": "python3"
  },
  "language_info": {
   "codemirror_mode": {
    "name": "ipython",
    "version": 3
   },
   "file_extension": ".py",
   "mimetype": "text/x-python",
   "name": "python",
   "nbconvert_exporter": "python",
   "pygments_lexer": "ipython3",
   "version": "3.9.7"
  }
 },
 "nbformat": 4,
 "nbformat_minor": 5
}
